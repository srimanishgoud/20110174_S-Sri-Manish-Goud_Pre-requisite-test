{
  "cells": [
    {
      "cell_type": "markdown",
      "id": "b8085820",
      "metadata": {
        "id": "b8085820"
      },
      "source": [
        "# Q1"
      ]
    },
    {
      "cell_type": "markdown",
      "id": "295eea2b",
      "metadata": {
        "id": "295eea2b"
      },
      "source": [
        "The number of multiplications that we need to perform while multiplying two matrices of dimensions (n,k) and (k,m) is n*k*m. We know that the resultant matrix has dimensions (n,m). Which states that there are n*m elements in the final matrix. And we know that each element needs k multiplications, that is row elements of one matrix are multiplied correspondingly with the column elements of the second matrix and this multiplication is possible because the column number of one matrix is same as the row number of the other(k). That implies the total number of multiplications required is \n",
        "nmk.\n",
        "\n",
        "\n",
        "The number of additions that we need to perform while multiplying two matrices of dimensions (n,k) and (k,m) is n*(k-1)*m. As explained above the number of elements in the resultant matrix after multiplication is n*m. The number of additions involved in forming one element of the final matrix is the number of multiplications - 1, that is the number of additions required to form a single element is (k-1). That implies the total number of additions required in numtiplying two matrices is nm(k-1). "
      ]
    },
    {
      "cell_type": "markdown",
      "id": "03ec829a",
      "metadata": {
        "id": "03ec829a"
      },
      "source": [
        "# Q2"
      ]
    },
    {
      "cell_type": "code",
      "execution_count": 104,
      "id": "6c04ff7b",
      "metadata": {
        "id": "6c04ff7b"
      },
      "outputs": [],
      "source": [
        "import numpy as np\n",
        "M1=list(np.random.randint(1,20,size=(4,3)))\n",
        "M2=list(np.random.randint(1,20,size=(3,2)))"
      ]
    },
    {
      "cell_type": "code",
      "execution_count": 105,
      "id": "ccdef325",
      "metadata": {
        "colab": {
          "base_uri": "https://localhost:8080/"
        },
        "id": "ccdef325",
        "outputId": "57719682-da39-49d5-cdd7-3509ca3cc6ff"
      },
      "outputs": [
        {
          "output_type": "stream",
          "name": "stdout",
          "text": [
            "[[223, 192], [307, 255], [220, 174], [267, 216]]\n"
          ]
        }
      ],
      "source": [
        "def listoflists(M1,M2):\n",
        "    l=[]\n",
        "    a=0\n",
        "    for i in range(len(M1)):\n",
        "        l1=[]\n",
        "        for j in range(len(M2[0])):\n",
        "            for k in range(len(M2)):\n",
        "                a+=M1[i][k]*M2[k][j]\n",
        "            l1.append(a)\n",
        "            a=0\n",
        "        l.append(l1)\n",
        "    return l\n",
        "print(listoflists(M1,M2))            "
      ]
    },
    {
      "cell_type": "code",
      "execution_count": 106,
      "id": "c5012be0",
      "metadata": {
        "id": "c5012be0"
      },
      "outputs": [],
      "source": [
        "import numpy as np"
      ]
    },
    {
      "cell_type": "code",
      "execution_count": 107,
      "id": "7326318e",
      "metadata": {
        "colab": {
          "base_uri": "https://localhost:8080/"
        },
        "id": "7326318e",
        "outputId": "2f49b19b-f24c-419b-fa6f-58ca8115b5d8"
      },
      "outputs": [
        {
          "output_type": "stream",
          "name": "stdout",
          "text": [
            "[[223 192]\n",
            " [307 255]\n",
            " [220 174]\n",
            " [267 216]]\n"
          ]
        }
      ],
      "source": [
        "l=np.array(M1).dot(np.array(M2))\n",
        "print(l)"
      ]
    },
    {
      "cell_type": "code",
      "execution_count": 108,
      "id": "468027ea",
      "metadata": {
        "colab": {
          "base_uri": "https://localhost:8080/"
        },
        "id": "468027ea",
        "outputId": "0c920441-dc9c-48e8-b9b3-febac8b6db57"
      },
      "outputs": [
        {
          "output_type": "stream",
          "name": "stdout",
          "text": [
            "for list of lists: \n",
            "0.4621565489999284 ms\n",
            "using numpy: \n",
            "0.04424419800011492 ms\n"
          ]
        }
      ],
      "source": [
        "import timeit\n",
        "initials='''\n",
        "from __main__ import listoflists\n",
        "import numpy as np\n",
        "M1=list(np.random.randint(1,100,size=(100,3)))\n",
        "M2=list(np.random.randint(1,100,size=(3,2)))\n",
        "'''\n",
        "test='''\n",
        "output=listoflists(M1,M2)\n",
        "'''\n",
        "loops=1000\n",
        "totaltime=timeit.timeit(stmt=test, setup=initials, number=1000)\n",
        "print(\"for list of lists: \")\n",
        "print(str((totaltime/loops)*1000)+\" ms\")\n",
        "\n",
        "test='''\n",
        "output=np.array(M1).dot(np.array(M2))\n",
        "'''\n",
        "loops=1000\n",
        "totaltime=timeit.timeit(stmt=test, setup=initials, number=1000)\n",
        "print(\"using numpy: \")\n",
        "print(str((totaltime/loops)*1000)+\" ms\")"
      ]
    },
    {
      "cell_type": "code",
      "execution_count": 109,
      "id": "19d4b062",
      "metadata": {
        "colab": {
          "base_uri": "https://localhost:8080/"
        },
        "id": "19d4b062",
        "outputId": "08736b71-4dac-4bee-f1b2-db920dc9b62f"
      },
      "outputs": [
        {
          "output_type": "stream",
          "name": "stdout",
          "text": [
            "mean of listoflists:  0.02675628662109375  ms\n",
            "standard deviation of listoflists:  0.013662657387177776  ms\n",
            "mean of inbuilt numpy:  0.001127004623413086  ms\n",
            "standard deviation of inbuilt numpy:  0.0006813296791331211  ms\n"
          ]
        }
      ],
      "source": [
        "import time\n",
        "def listofliststime(M1,M2):\n",
        "    l=[]\n",
        "    for i in range(1000):\n",
        "        start=time.time()\n",
        "        output=listoflists(M1,M2)\n",
        "        end=time.time()\n",
        "        l.append((end-start)*1000)\n",
        "    return np.array(l)\n",
        "def numpyinbuiltime(M1,M2):\n",
        "    l=[]\n",
        "    M1=np.array(M1)\n",
        "    M2=np.array(M2)\n",
        "    for i in range(1000):\n",
        "        start=time.time()\n",
        "        output=M1.dot(M2)\n",
        "        end=time.time()\n",
        "        l.append((end-start)*1000)\n",
        "    return np.array(l)\n",
        "lolt=listofliststime(M1,M2)\n",
        "nit=numpyinbuiltime(M1,M2)\n",
        "loltmean,loltstd=np.mean(lolt), np.std(lolt)\n",
        "nitmean,nitstd=np.mean(nit), np.std(nit)\n",
        "print(\"mean of listoflists: \", str(loltmean),\" ms\")\n",
        "print(\"standard deviation of listoflists: \", str(loltstd),\" ms\")\n",
        "print(\"mean of inbuilt numpy: \", str(nitmean), \" ms\")\n",
        "print(\"standard deviation of inbuilt numpy: \", str(nitstd),\" ms\")"
      ]
    },
    {
      "cell_type": "markdown",
      "id": "4d05dc17",
      "metadata": {
        "id": "4d05dc17"
      },
      "source": [
        "We can see that the numpy implementation is about 10 times faster than the nested list implementation of the matrix multiplication. \n",
        "\n",
        "This is because numpy is completely built in C language which is faster than python. So, obviously numpy would be faster. Also, python lists are complex, they can store elements of different datatypes, whereas arrays can only store elements of same datatype. \n",
        "\n",
        "Memory is contiguously allocated in case of numpy arrays but it is not the case with python lists, making the access harder and longer. \n"
      ]
    },
    {
      "cell_type": "markdown",
      "id": "90167c47",
      "metadata": {
        "id": "90167c47"
      },
      "source": [
        "# Q3"
      ]
    },
    {
      "cell_type": "markdown",
      "id": "0f8f565e",
      "metadata": {
        "id": "0f8f565e"
      },
      "source": [
        "One pass on the array is needed to obtain the highest element. Two passes are needed to find the second highest element. Three passes are required to find the third highest element, and so on. Let n be the length of the array.\n",
        "We know that the median is the middle element that is (n/2)th largest element in an array of distinct elements, so using the above process we need n/2 steps to find the median. Each pass through the array takes O(n) time to find the largest element. That is, the time complexity of this program in finding the median of an array is $ O(n^{2})$."
      ]
    },
    {
      "cell_type": "code",
      "execution_count": 110,
      "id": "db8af256",
      "metadata": {
        "colab": {
          "base_uri": "https://localhost:8080/"
        },
        "id": "db8af256",
        "outputId": "2d7857bd-02b5-4ce8-b134-49d607021a29"
      },
      "outputs": [
        {
          "output_type": "stream",
          "name": "stdout",
          "text": [
            "[3 7 3 2 3 7 3 5]\n",
            "median:  3.0\n"
          ]
        }
      ],
      "source": [
        "import numpy as np\n",
        "def median(arr):\n",
        "    l=len(arr)\n",
        "    i=0\n",
        "    hashmap={}\n",
        "    for k in range(l):\n",
        "        hashmap[k]=-1\n",
        "    while(i<((l//2) - 1)):\n",
        "        m=-1\n",
        "        ans=-1\n",
        "        for j in range(l):\n",
        "            if(arr[j]>m and hashmap[j]==-1):\n",
        "                m=arr[j]\n",
        "                ans=j\n",
        "        hashmap[ans]=1\n",
        "        i+=1\n",
        "    s=0\n",
        "    v=0\n",
        "    i=0\n",
        "    ans=-1\n",
        "    while(i<2):\n",
        "        m=-1\n",
        "        ans=-1\n",
        "        for j in range(l):\n",
        "            if(arr[j]>m and hashmap[j]==-1):\n",
        "                m=arr[j]\n",
        "                ans=j\n",
        "        hashmap[ans]=1\n",
        "        v=m\n",
        "        s+=(m/2)\n",
        "        i+=1\n",
        "    if(l%2==0):\n",
        "        return s\n",
        "    else:\n",
        "        return v\n",
        "arr=np.random.randint(1,10,size=(8))\n",
        "print(arr)\n",
        "print(\"median: \",median(arr))"
      ]
    },
    {
      "cell_type": "markdown",
      "id": "a3b04011",
      "metadata": {
        "id": "a3b04011"
      },
      "source": [
        "As mentioned above the median is the middle element in the sorted array if the number of elements in the array is odd, and it is the average of the middle two elements if the number of elements is even.\n",
        "\n",
        "Using this we can find the median of the array simply by sorting the array. After the array is sorted we return the array[n//2] as the median of the array if the number of elements is odd, else we return (array[n//2]+arr[n//2 - 1])/2 as the median.\n",
        "\n",
        "This is the better approach than that is given in the question because the only complexity involved in this approach is sorting the array, which takes O(nlog(n)) time. So, the time complexity of this approach is O(nlog(n)), better than the approach given in the question."
      ]
    },
    {
      "cell_type": "code",
      "execution_count": 111,
      "id": "3f2542ee",
      "metadata": {
        "colab": {
          "base_uri": "https://localhost:8080/"
        },
        "id": "3f2542ee",
        "outputId": "beaeaa70-bf3d-483a-b27f-79c680326534"
      },
      "outputs": [
        {
          "output_type": "stream",
          "name": "stdout",
          "text": [
            "[6 6 5 8 8 3 6 6]\n",
            "median:  6.0\n"
          ]
        }
      ],
      "source": [
        "def medianbetter(arr):\n",
        "    arr=np.sort(arr)\n",
        "    l=len(arr)\n",
        "    if(l%2==0):\n",
        "        return (arr[l//2]+arr[l//2 - 1])/2\n",
        "    else:\n",
        "        return arr[l//2]\n",
        "arr=np.random.randint(1,10,size=(8))\n",
        "print(arr)\n",
        "print(\"median: \",medianbetter(arr))"
      ]
    },
    {
      "cell_type": "code",
      "execution_count": 112,
      "id": "4a24f9f9",
      "metadata": {
        "colab": {
          "base_uri": "https://localhost:8080/"
        },
        "id": "4a24f9f9",
        "outputId": "f522eb5c-8639-4d0f-b693-b60aafa5a347"
      },
      "outputs": [
        {
          "output_type": "stream",
          "name": "stdout",
          "text": [
            "[8 9 2 6 9 3 7 9]\n",
            "median:  7.5\n"
          ]
        }
      ],
      "source": [
        "arr=np.random.randint(1,10,size=(8))\n",
        "print(arr)\n",
        "print(\"median: \", np.median(arr))"
      ]
    },
    {
      "cell_type": "code",
      "execution_count": 113,
      "id": "0b35a4ce",
      "metadata": {
        "colab": {
          "base_uri": "https://localhost:8080/"
        },
        "id": "0b35a4ce",
        "outputId": "1c89b676-9789-42e0-fc2a-8f5e5de8539a"
      },
      "outputs": [
        {
          "output_type": "stream",
          "name": "stdout",
          "text": [
            "for given procedure: \n",
            "4.342962244000091 ms\n",
            "for my better function: \n",
            "0.006118949999972756 ms\n",
            "using numpy: \n",
            "0.025161750000052052 ms\n"
          ]
        }
      ],
      "source": [
        "import timeit\n",
        "initials='''\n",
        "from __main__ import median\n",
        "from __main__ import medianbetter\n",
        "import numpy as np\n",
        "arr=np.random.randint(1,1000,size=(200))\n",
        "'''\n",
        "test='''\n",
        "output=median(arr)\n",
        "'''\n",
        "loops=1000\n",
        "totaltime=timeit.timeit(stmt=test, setup=initials, number=1000)\n",
        "print(\"for given procedure: \")\n",
        "print(str((totaltime/loops)*1000)+\" ms\")\n",
        "\n",
        "test='''\n",
        "output=medianbetter(arr)\n",
        "'''\n",
        "loops=1000\n",
        "totaltime=timeit.timeit(stmt=test, setup=initials, number=1000)\n",
        "print(\"for my better function: \")\n",
        "print(str((totaltime/loops)*1000)+\" ms\")\n",
        "\n",
        "test='''\n",
        "output=np.median(arr)\n",
        "'''\n",
        "loops=1000\n",
        "totaltime=timeit.timeit(stmt=test, setup=initials, number=1000)\n",
        "print(\"using numpy: \")\n",
        "print(str((totaltime/loops)*1000)+\" ms\")"
      ]
    },
    {
      "cell_type": "code",
      "execution_count": 114,
      "id": "d177f0ef",
      "metadata": {
        "colab": {
          "base_uri": "https://localhost:8080/"
        },
        "id": "d177f0ef",
        "outputId": "fe105702-1415-48cb-b004-8f84b7895596"
      },
      "outputs": [
        {
          "output_type": "stream",
          "name": "stdout",
          "text": [
            "all are in ms\n",
            "mean of times through given algorithm:  1.103450059890747\n",
            "standard deviation of times through the given algorithm:  0.15135161118753834\n",
            "mean of times through My algorithm:  0.00410151481628418\n",
            "standard deviation of times through My algorithm:  0.0042001734309448395\n",
            "mean of times through inbuilt function:  0.0226137638092041\n",
            "standard deviation of times through the inbuilt function:  0.017506217927384535\n"
          ]
        }
      ],
      "source": [
        "import time\n",
        "def mediantime(arr):\n",
        "    l=[]\n",
        "    for i in range(1000):\n",
        "        start=time.time()\n",
        "        output=median(arr)\n",
        "        end=time.time()\n",
        "        l.append((end-start)*1000)\n",
        "    return np.array(l)\n",
        "def medianbettertime(arr):\n",
        "    l=[]\n",
        "    for i in range(1000):\n",
        "        start=time.time()\n",
        "        output=medianbetter(arr)\n",
        "        end=time.time()\n",
        "        l.append((end-start)*1000)\n",
        "    return np.array(l)\n",
        "def inbuiltime(arr):\n",
        "    l=[]\n",
        "    for i in range(1000):\n",
        "        start=time.time()\n",
        "        output=np.median(arr)\n",
        "        end=time.time()\n",
        "        l.append((end-start)*1000)\n",
        "    return np.array(l)\n",
        "arr=np.random.randint(1,100,size=(100))\n",
        "mediant=mediantime(arr)\n",
        "medianbettert=medianbettertime(arr)\n",
        "inbuilt=inbuiltime(arr)\n",
        "medianmean, medianstd = np.mean(mediant), np.std(mediant)\n",
        "medianbettermean, medianbetterstd = np.mean(medianbettert), np.std(medianbettert)\n",
        "inbuiltmean, inbuiltstd = np.mean(inbuilt), np.std(inbuilt)\n",
        "print(\"all are in ms\")\n",
        "print(\"mean of times through given algorithm: \", medianmean)\n",
        "print(\"standard deviation of times through the given algorithm: \", medianstd)\n",
        "print(\"mean of times through My algorithm: \", medianbettermean)\n",
        "print(\"standard deviation of times through My algorithm: \", medianbetterstd)\n",
        "print(\"mean of times through inbuilt function: \",inbuiltmean)\n",
        "print(\"standard deviation of times through the inbuilt function: \", inbuiltstd)"
      ]
    },
    {
      "cell_type": "markdown",
      "id": "2e4d512f",
      "metadata": {
        "id": "2e4d512f"
      },
      "source": [
        "We can see that the time taken for the execution of the algorithm given in the question is higher, as expected because it has time complexity $O(n^{2})$. The time complexity of the better algorithm is $O(nlog(n))$ hence it is lower than that of the $O(n^{2})$ algorithm. Also, we can see that the time taken by the inbuilt function is some what higher than that of the better function which I have written using sorting. "
      ]
    },
    {
      "cell_type": "markdown",
      "id": "ea37c940",
      "metadata": {
        "id": "ea37c940"
      },
      "source": [
        "# Q4"
      ]
    },
    {
      "cell_type": "markdown",
      "id": "40247397",
      "metadata": {
        "id": "40247397"
      },
      "source": [
        "$ Function\\; : \\; x^{2}y + y^{3}sin(x) $"
      ]
    },
    {
      "cell_type": "markdown",
      "id": "223ed257",
      "metadata": {
        "id": "223ed257"
      },
      "source": [
        "$ Gradient \\; with \\; respect \\; to \\; x \\; : \\; 2xy + y^{3}cos(x) $"
      ]
    },
    {
      "cell_type": "markdown",
      "id": "4e711ea3",
      "metadata": {
        "id": "4e711ea3"
      },
      "source": [
        "$ Gradient \\; with \\; respect \\; to \\; y \\; : \\; x^{2} + 3y^{2}sin(x) $"
      ]
    },
    {
      "cell_type": "markdown",
      "id": "529b91e6",
      "metadata": {
        "id": "529b91e6"
      },
      "source": [
        "# Q5"
      ]
    },
    {
      "cell_type": "code",
      "execution_count": 115,
      "id": "73bfcf1c",
      "metadata": {
        "colab": {
          "base_uri": "https://localhost:8080/"
        },
        "id": "73bfcf1c",
        "outputId": "31ef90ba-4bd1-41d1-ca0b-e5f75b11c7de"
      },
      "outputs": [
        {
          "output_type": "stream",
          "name": "stdout",
          "text": [
            "Using our derivative function w.r.to x:  1.1243165\n",
            "Using jax derivative function w.r.to x:  1.1243165\n",
            "Using our derivative function w.r.to y:  1.01953\n",
            "Using jax derivative function w.r.to y:  1.01953\n",
            "\n",
            "\n",
            "Using our derivative function w.r.to x:  0.35654324\n",
            "Using jax derivative function w.r.to x:  0.35654324\n",
            "Using our derivative function w.r.to y:  0.02066039\n",
            "Using jax derivative function w.r.to y:  0.020660391\n",
            "\n",
            "\n",
            "Using our derivative function w.r.to x:  0.5860236\n",
            "Using jax derivative function w.r.to x:  0.5860236\n",
            "Using our derivative function w.r.to y:  0.39341486\n",
            "Using jax derivative function w.r.to y:  0.39341486\n",
            "\n",
            "\n",
            "Using our derivative function w.r.to x:  0.19809979\n",
            "Using jax derivative function w.r.to x:  0.19809979\n",
            "Using our derivative function w.r.to y:  0.14207925\n",
            "Using jax derivative function w.r.to y:  0.14207925\n",
            "\n",
            "\n",
            "Using our derivative function w.r.to x:  1.5906615\n",
            "Using jax derivative function w.r.to x:  1.5906615\n",
            "Using our derivative function w.r.to y:  1.4883075\n",
            "Using jax derivative function w.r.to y:  1.4883075\n",
            "\n",
            "\n",
            "Using our derivative function w.r.to x:  0.93000335\n",
            "Using jax derivative function w.r.to x:  0.93000335\n",
            "Using our derivative function w.r.to y:  1.3388464\n",
            "Using jax derivative function w.r.to y:  1.3388464\n",
            "\n",
            "\n",
            "Using our derivative function w.r.to x:  1.191771\n",
            "Using jax derivative function w.r.to x:  1.191771\n",
            "Using our derivative function w.r.to y:  1.4847583\n",
            "Using jax derivative function w.r.to y:  1.4847583\n",
            "\n",
            "\n",
            "Using our derivative function w.r.to x:  0.11511673\n",
            "Using jax derivative function w.r.to x:  0.11511674\n",
            "Using our derivative function w.r.to y:  0.34034762\n",
            "Using jax derivative function w.r.to y:  0.34034762\n",
            "\n",
            "\n",
            "Using our derivative function w.r.to x:  0.21506879\n",
            "Using jax derivative function w.r.to x:  0.21506879\n",
            "Using our derivative function w.r.to y:  0.1534883\n",
            "Using jax derivative function w.r.to y:  0.15348828\n",
            "\n",
            "\n",
            "Using our derivative function w.r.to x:  0.9929266\n",
            "Using jax derivative function w.r.to x:  0.9929266\n",
            "Using our derivative function w.r.to y:  0.20428093\n",
            "Using jax derivative function w.r.to y:  0.20428093\n",
            "\n",
            "\n"
          ]
        }
      ],
      "source": [
        "import jax\n",
        "import jax.numpy as jnp\n",
        "from jax import grad\n",
        "import random\n",
        "def func(x,y):\n",
        "    return (x**2)*y + (y**3)*jnp.sin(x)\n",
        "def diffx(x,y):\n",
        "    return 2*x*y + y**3*(jnp.cos(x))\n",
        "def diffy(x,y):\n",
        "    return x**2 + 3*(y**2)*(jnp.sin(x))\n",
        "x=random.random()\n",
        "y=random.random()\n",
        "jaxdiffx=grad(func)\n",
        "jaxdiffy=grad(func,argnums=(1))\n",
        "\n",
        "for i in range(10):\n",
        "  x=random.random()\n",
        "  y=random.random()\n",
        "  print(\"Using our derivative function w.r.to x: \",diffx(x,y)), print(\"Using jax derivative function w.r.to x: \",jaxdiffx(x,y))\n",
        "  print(\"Using our derivative function w.r.to y: \",diffy(x,y)), print(\"Using jax derivative function w.r.to y: \",jaxdiffy(x,y))\n",
        "  print(\"\\n\")"
      ]
    },
    {
      "cell_type": "markdown",
      "id": "b347a3a7",
      "metadata": {
        "id": "b347a3a7"
      },
      "source": [
        "# Q6"
      ]
    },
    {
      "cell_type": "code",
      "execution_count": 116,
      "id": "d0fd0e17",
      "metadata": {
        "id": "d0fd0e17"
      },
      "outputs": [],
      "source": [
        "import sympy"
      ]
    },
    {
      "cell_type": "code",
      "execution_count": 117,
      "id": "cf02035d",
      "metadata": {
        "colab": {
          "base_uri": "https://localhost:8080/"
        },
        "id": "cf02035d",
        "outputId": "cc437e12-0c9b-4b59-c0c1-a9b40dae5866"
      },
      "outputs": [
        {
          "output_type": "stream",
          "name": "stdout",
          "text": [
            "function:  x**2*y + y**3*sin(x)\n",
            "Gradient w.r.to x:  2*x*y + y**3*cos(x)\n",
            "Gradient w.r.to y: x**2 + 3*y**2*sin(x)\n"
          ]
        }
      ],
      "source": [
        "x=sympy.Symbol('x')\n",
        "y=sympy.Symbol('y')\n",
        "def func(x,y):\n",
        "    return (x**2)*y + (y**3)*sympy.sin(x)\n",
        "print(\"function: \",func(x,y))\n",
        "derivx=func(x,y).diff(x)\n",
        "print(\"Gradient w.r.to x: \",derivx)\n",
        "derivy=func(x,y).diff(y)\n",
        "print(\"Gradient w.r.to y:\",derivy)"
      ]
    },
    {
      "cell_type": "markdown",
      "id": "1a2bca15",
      "metadata": {
        "id": "1a2bca15"
      },
      "source": [
        "# Q7"
      ]
    },
    {
      "cell_type": "code",
      "execution_count": 118,
      "id": "f2ddce2e",
      "metadata": {
        "colab": {
          "base_uri": "https://localhost:8080/"
        },
        "id": "f2ddce2e",
        "outputId": "cf4875e1-7fca-4fe2-d636-4f41d9ca2202"
      },
      "outputs": [
        {
          "output_type": "stream",
          "name": "stdout",
          "text": [
            "{2022: {'Branch 1': {1: {'Roll Number': 1, 'Name': 'Manish', 'Marks': {'Maths': 75, 'Physics': 60, 'Chemistry': 60}}, 2: {'Roll Number': 2, 'Name': 'Manoj', 'Marks': {'Maths': 80, 'Physics': 60, 'Chemistry': 65}}}, 'Branch 2': {1: {'Roll Number': 1, 'Name': 'Nithish', 'Marks': {'Maths': 65, 'Physics': 67, 'Chemistry': 69}}, 2: {'Roll Number': 2, 'Name': 'Ravi', 'Marks': {'Maths': 78, 'Physics': 34, 'Chemistry': 50}}}}, 2023: {'Branch 1': {}, 'Branch 2': {3: {'Roll Number': 3, 'Name': 'siva', 'Marks': {'Maths': 66, 'Physics': 67, 'Chemistry': 75}}}}, 2024: {'Branch 1': {}, 'Branch 2': {6: {'Roll Number': 6, 'Name': 'balu', 'Marks': {'Maths': 65, 'Physics': 67, 'Chemistry': 69}}}}, 2025: {'Branch 1': {}, 'Branch 2': {10: {'Roll Number': 10, 'Name': 'raj', 'Marks': {'Maths': 68, 'Physics': 75, 'Chemistry': 69}}}}}\n"
          ]
        }
      ],
      "source": [
        "dictionary={}\n",
        "dictionary[2022]={'Branch 1':{1:{'Roll Number': 1, 'Name': \"Manish\", 'Marks': {'Maths':75, 'Physics':60, 'Chemistry':60}}, \n",
        "                             2:{'Roll Number': 2, 'Name': \"Manoj\", 'Marks': {'Maths':80, 'Physics':60, 'Chemistry':65}}},\n",
        "                              \n",
        "                 'Branch 2':{1:{'Roll Number': 1, 'Name': \"Nithish\", 'Marks': {'Maths':65, 'Physics':67, 'Chemistry':69}}, \n",
        "                             2:{'Roll Number': 2, 'Name': \"Ravi\", 'Marks': {'Maths':78, 'Physics':34, 'Chemistry':50}}}}\n",
        "dictionary[2023]={}\n",
        "dictionary[2023]['Branch 1']={}\n",
        "dictionary[2023]['Branch 2']={}\n",
        "dictionary[2023]['Branch 2'][3]={'Roll Number': 3, 'Name': \"siva\", 'Marks': {'Maths':66, 'Physics':67, 'Chemistry':75}}\n",
        "dictionary[2024]={}\n",
        "dictionary[2024]['Branch 1']={}\n",
        "dictionary[2024]['Branch 2']={}\n",
        "dictionary[2024]['Branch 2'][6]={'Roll Number': 6, 'Name': \"balu\", 'Marks': {'Maths':65, 'Physics':67, 'Chemistry':69}}\n",
        "dictionary[2025]={}\n",
        "dictionary[2025]['Branch 1']={}\n",
        "dictionary[2025]['Branch 2']={}\n",
        "dictionary[2025]['Branch 2'][10]={'Roll Number': 10, 'Name': \"raj\", 'Marks': {'Maths':68, 'Physics':75, 'Chemistry':69}}\n",
        "print(dictionary)\n",
        "#1,2,3,6,10 are roll numbers of the students\n",
        "#likewise we can add entries to the dictionaries"
      ]
    },
    {
      "cell_type": "markdown",
      "id": "d08d93b2",
      "metadata": {
        "id": "d08d93b2"
      },
      "source": [
        "# Q8"
      ]
    },
    {
      "cell_type": "code",
      "execution_count": 119,
      "id": "3326d955",
      "metadata": {
        "colab": {
          "base_uri": "https://localhost:8080/"
        },
        "id": "3326d955",
        "outputId": "c46f0b82-8b09-4112-8a82-23716b8682b3"
      },
      "outputs": [
        {
          "output_type": "stream",
          "name": "stdout",
          "text": [
            "2022\n",
            "Manish,20110174,['Maths', 'Physics', 'Chemistry'],[60, 70, 75],Branch 1\n",
            "Nithish,20111985,['Maths', 'Physics', 'Chemistry'],[60, 70, 75],Branch 2\n",
            "2023\n",
            "siva,20111985,['Maths', 'Physics', 'Chemistry'],[60, 70, 75],Branch 1\n",
            "rajesh,2011198,['Maths', 'Physics', 'Chemistry'],[60, 70, 75],Branch 2\n",
            "2024\n",
            "sunny,20111985,['Maths', 'Physics', 'Chemistry'],[60, 76, 75],Branch 2\n",
            "gnana,2011198,['Maths', 'Physics', 'Chemistry'],[60, 70, 80],Branch 2\n",
            "2025\n",
            "ganesh,20111985,['Maths', 'Physics', 'Chemistry'],[67, 76, 75],Branch 2\n",
            "balu,2011198,['Maths', 'Physics', 'Chemistry'],[60, 70, 89],Branch 1\n"
          ]
        }
      ],
      "source": [
        "class year:\n",
        "    def __init__(self, acadyear):\n",
        "        self.acadyear=acadyear\n",
        "        self.branches=[]\n",
        "    def __str__(self):\n",
        "        return f\"{self.branches}\"\n",
        "\n",
        "class branches:\n",
        "    def __init__(self, branches):\n",
        "        self.branches=branches\n",
        "        self.students=[]\n",
        "    def __str__(self):\n",
        "        return f\"{self.students}\"\n",
        "\n",
        "class students:\n",
        "    def __init__(self, name, rollnum, courses, marks):\n",
        "        self.name=name\n",
        "        self.rollnum=rollnum\n",
        "        self.courses=courses\n",
        "        self.marks=marks\n",
        "    def __str__(self):\n",
        "        return f\"{[self.name, self.rollnum, self.courses, self.marks]}\"\n",
        "\n",
        "\n",
        "class database:  \n",
        "    def __init__(self,years):\n",
        "        self.years = years\n",
        "        \n",
        "S1=students(\"Manish\", 20110174, ['Maths','Physics','Chemistry'],[60,70,75])\n",
        "B1=branches(\"Branch 1\")\n",
        "Y1=year(2022)\n",
        "B1.students.append(S1)\n",
        "Y1.branches.append(B1)\n",
        "S2=students(\"Nithish\", 20111985, ['Maths','Physics','Chemistry'],[60,70,75])\n",
        "B2=branches(\"Branch 2\")\n",
        "B2.students.append(S2)\n",
        "Y1.branches.append(B2)\n",
        "\n",
        "\n",
        "\n",
        "S3=students(\"siva\", 20111985, ['Maths','Physics','Chemistry'],[60,70,75])\n",
        "B3=branches(\"Branch 1\")\n",
        "Y3=year(2023)\n",
        "B3.students.append(S3)\n",
        "Y3.branches.append(B3)\n",
        "S3=students(\"rajesh\", 2011198, ['Maths','Physics','Chemistry'],[60,70,75])\n",
        "B3=branches(\"Branch 2\")\n",
        "B3.students.append(S3)\n",
        "Y3.branches.append(B3)\n",
        "\n",
        "\n",
        "\n",
        "\n",
        "S4=students(\"sunny\", 20111985, ['Maths','Physics','Chemistry'],[60,76,75])\n",
        "B4=branches(\"Branch 2\")\n",
        "Y4=year(2024)\n",
        "B4.students.append(S4)\n",
        "Y4.branches.append(B4)\n",
        "S4=students(\"gnana\", 2011198, ['Maths','Physics','Chemistry'],[60,70,80])\n",
        "B4=branches(\"Branch 2\")\n",
        "B4.students.append(S4)\n",
        "Y4.branches.append(B4)\n",
        "\n",
        "\n",
        "S5=students(\"ganesh\", 20111985, ['Maths','Physics','Chemistry'],[67,76,75])\n",
        "B5=branches(\"Branch 2\")\n",
        "Y5=year(2025)\n",
        "B5.students.append(S5)\n",
        "Y5.branches.append(B5)\n",
        "S5=students(\"balu\", 2011198, ['Maths','Physics','Chemistry'],[60,70,89])\n",
        "B5=branches(\"Branch 1\")\n",
        "B5.students.append(S5)\n",
        "Y5.branches.append(B5)\n",
        "\n",
        "\n",
        "\n",
        "years = [Y1,Y3, Y4, Y5]\n",
        "Records = database(years)\n",
        "\n",
        "for i in Records.years:\n",
        "    print(i.acadyear)\n",
        "    for j in i.branches:\n",
        "        for k in j.students : \n",
        "            print(f\"{k.name},{k.rollnum},{k.courses},{k.marks},{j.branches}\")\n",
        "            \n",
        "\n",
        "            "
      ]
    },
    {
      "cell_type": "markdown",
      "id": "a41e486a",
      "metadata": {
        "id": "a41e486a"
      },
      "source": [
        "# Q9"
      ]
    },
    {
      "cell_type": "markdown",
      "id": "c06b6115",
      "metadata": {
        "id": "c06b6115"
      },
      "source": [
        "### 1"
      ]
    },
    {
      "cell_type": "code",
      "execution_count": 120,
      "id": "f32d9ca5",
      "metadata": {
        "colab": {
          "base_uri": "https://localhost:8080/",
          "height": 295
        },
        "id": "f32d9ca5",
        "outputId": "b3e5561b-fedd-4cb5-b1bc-71273cd8185c"
      },
      "outputs": [
        {
          "output_type": "display_data",
          "data": {
            "text/plain": [
              "<Figure size 432x288 with 1 Axes>"
            ],
            "image/png": "[encoded data removed]"
          },
          "metadata": {
            "needs_background": "light"
          }
        }
      ],
      "source": [
        "from matplotlib import pyplot as plt\n",
        "def y(x):\n",
        "    return x\n",
        "x=np.arange(0.5,100,0.5)\n",
        "plt.plot(x, y(x))\n",
        "plt.title(\"y=x\")\n",
        "plt.xlabel(\"X axis\")\n",
        "plt.ylabel(\"Y axis\")\n",
        "plt.show()"
      ]
    },
    {
      "cell_type": "markdown",
      "id": "ec9c9495",
      "metadata": {
        "id": "ec9c9495"
      },
      "source": [
        "### 2"
      ]
    },
    {
      "cell_type": "code",
      "execution_count": 121,
      "id": "b7f1e722",
      "metadata": {
        "colab": {
          "base_uri": "https://localhost:8080/",
          "height": 295
        },
        "id": "b7f1e722",
        "outputId": "4542e885-b81a-47bc-ef6c-eb603a4d625a"
      },
      "outputs": [
        {
          "output_type": "display_data",
          "data": {
            "text/plain": [
              "<Figure size 432x288 with 1 Axes>"
            ],
            "image/png": "[encoded data removed]"
          },
          "metadata": {
            "needs_background": "light"
          }
        }
      ],
      "source": [
        "def y(x):\n",
        "    return x**2\n",
        "x=np.arange(0.5,100,0.5)\n",
        "plt.plot(x, y(x))\n",
        "plt.title(\"y=x^2\")\n",
        "plt.xlabel(\"X axis\")\n",
        "plt.ylabel(\"Y axis\")\n",
        "plt.show()"
      ]
    },
    {
      "cell_type": "markdown",
      "id": "ad896637",
      "metadata": {
        "id": "ad896637"
      },
      "source": [
        "### 3"
      ]
    },
    {
      "cell_type": "code",
      "execution_count": 122,
      "id": "b28181a8",
      "metadata": {
        "colab": {
          "base_uri": "https://localhost:8080/",
          "height": 295
        },
        "id": "b28181a8",
        "outputId": "cf0037ee-4b8e-42ad-d705-6fd4088586a6"
      },
      "outputs": [
        {
          "output_type": "display_data",
          "data": {
            "text/plain": [
              "<Figure size 432x288 with 1 Axes>"
            ],
            "image/png": "[encoded data removed]"
          },
          "metadata": {
            "needs_background": "light"
          }
        }
      ],
      "source": [
        "def y(x):\n",
        "    return (x**3)/100\n",
        "x=np.arange(0.5,100,0.5)\n",
        "plt.plot(x, y(x))\n",
        "plt.title(\"y=x^3/100\")\n",
        "plt.xlabel(\"X axis\")\n",
        "plt.ylabel(\"Y axis\")\n",
        "plt.show()"
      ]
    },
    {
      "cell_type": "markdown",
      "id": "3318659b",
      "metadata": {
        "id": "3318659b"
      },
      "source": [
        "### 4"
      ]
    },
    {
      "cell_type": "code",
      "execution_count": 123,
      "id": "50714eb0",
      "metadata": {
        "colab": {
          "base_uri": "https://localhost:8080/",
          "height": 295
        },
        "id": "50714eb0",
        "outputId": "a6c24157-3642-4660-cc7f-50f39ca63e02"
      },
      "outputs": [
        {
          "output_type": "display_data",
          "data": {
            "text/plain": [
              "<Figure size 432x288 with 1 Axes>"
            ],
            "image/png": "[encoded data removed]"
          },
          "metadata": {
            "needs_background": "light"
          }
        }
      ],
      "source": [
        "def y(x):\n",
        "    return np.sin(x)\n",
        "x=np.arange(0.5,100,0.5)\n",
        "plt.plot(x, y(x))\n",
        "plt.title(\"y=sin(x)\")\n",
        "plt.xlabel(\"X axis\")\n",
        "plt.ylabel(\"Y axis\")\n",
        "plt.show()"
      ]
    },
    {
      "cell_type": "markdown",
      "id": "a4e460e1",
      "metadata": {
        "id": "a4e460e1"
      },
      "source": [
        "### 5"
      ]
    },
    {
      "cell_type": "code",
      "execution_count": 124,
      "id": "a9cf940a",
      "metadata": {
        "colab": {
          "base_uri": "https://localhost:8080/",
          "height": 295
        },
        "id": "a9cf940a",
        "outputId": "e0657cca-bf9c-4ee9-c9cb-bcb73d3fd23c"
      },
      "outputs": [
        {
          "output_type": "display_data",
          "data": {
            "text/plain": [
              "<Figure size 432x288 with 1 Axes>"
            ],
            "image/png": "[encoded data removed]"
          },
          "metadata": {
            "needs_background": "light"
          }
        }
      ],
      "source": [
        "def y(x):\n",
        "    return np.sin(x)/x\n",
        "x=np.arange(0.5,100,0.5)\n",
        "plt.plot(x, y(x))\n",
        "plt.title(\"y=sin(x)/x\")\n",
        "plt.xlabel(\"X axis\")\n",
        "plt.ylabel(\"Y axis\")\n",
        "plt.show()"
      ]
    },
    {
      "cell_type": "markdown",
      "id": "bc4ecb46",
      "metadata": {
        "id": "bc4ecb46"
      },
      "source": [
        "### 6"
      ]
    },
    {
      "cell_type": "code",
      "execution_count": 125,
      "id": "6133db44",
      "metadata": {
        "colab": {
          "base_uri": "https://localhost:8080/",
          "height": 295
        },
        "id": "6133db44",
        "outputId": "fef8ab86-b8d4-46dc-f076-3e910b9179ce"
      },
      "outputs": [
        {
          "output_type": "display_data",
          "data": {
            "text/plain": [
              "<Figure size 432x288 with 1 Axes>"
            ],
            "image/png": "[encoded data removed]"
          },
          "metadata": {
            "needs_background": "light"
          }
        }
      ],
      "source": [
        "def y(x):\n",
        "    return np.log10(x)\n",
        "x=np.arange(0.5,100,0.5)\n",
        "plt.plot(x, y(x))\n",
        "plt.title(\"y=log10(x)\")\n",
        "plt.xlabel(\"X axis\")\n",
        "plt.ylabel(\"Y axis\")\n",
        "plt.show()"
      ]
    },
    {
      "cell_type": "code",
      "execution_count": 126,
      "id": "5f37a3fb",
      "metadata": {
        "colab": {
          "base_uri": "https://localhost:8080/",
          "height": 295
        },
        "id": "5f37a3fb",
        "outputId": "ed763b63-1f37-4509-d61c-243f152f6587"
      },
      "outputs": [
        {
          "output_type": "display_data",
          "data": {
            "text/plain": [
              "<Figure size 432x288 with 1 Axes>"
            ],
            "image/png": "[encoded data removed]"
          },
          "metadata": {
            "needs_background": "light"
          }
        }
      ],
      "source": [
        "def y(x):\n",
        "    return np.log(x)\n",
        "x=np.arange(0.5,100,0.5)\n",
        "plt.plot(x, y(x))\n",
        "plt.title(\"y=ln(x)\")\n",
        "plt.xlabel(\"X axis\")\n",
        "plt.ylabel(\"Y axis\")\n",
        "plt.show()"
      ]
    },
    {
      "cell_type": "markdown",
      "id": "ea25840f",
      "metadata": {
        "id": "ea25840f"
      },
      "source": [
        "### 7"
      ]
    },
    {
      "cell_type": "code",
      "execution_count": 127,
      "id": "a4076d08",
      "metadata": {
        "colab": {
          "base_uri": "https://localhost:8080/",
          "height": 295
        },
        "id": "a4076d08",
        "outputId": "85ed1810-c20b-4149-c614-044d06ce1a81"
      },
      "outputs": [
        {
          "output_type": "display_data",
          "data": {
            "text/plain": [
              "<Figure size 432x288 with 1 Axes>"
            ],
            "image/png": "[encoded data removed]"
          },
          "metadata": {
            "needs_background": "light"
          }
        }
      ],
      "source": [
        "def y(x):\n",
        "    return np.exp(x)\n",
        "x=np.arange(0.5,100,0.5)\n",
        "plt.plot(x, y(x))\n",
        "plt.title(\"y=e^x\")\n",
        "plt.xlabel(\"X axis\")\n",
        "plt.ylabel(\"Y axis\")\n",
        "plt.show()"
      ]
    },
    {
      "cell_type": "markdown",
      "id": "f90d1769",
      "metadata": {
        "id": "f90d1769"
      },
      "source": [
        "# Q10"
      ]
    },
    {
      "cell_type": "code",
      "execution_count": 128,
      "id": "80a22ecd",
      "metadata": {
        "colab": {
          "base_uri": "https://localhost:8080/"
        },
        "id": "80a22ecd",
        "outputId": "f6c5ecb6-9b2c-42e9-99d9-c38f2ac95751"
      },
      "outputs": [
        {
          "output_type": "stream",
          "name": "stdout",
          "text": [
            "[[1.65474851 1.87303567 1.62401637 1.11305531 1.2278369 ]\n",
            " [1.08675347 1.37229889 1.49587026 1.80657896 1.75281063]\n",
            " [1.91643944 1.40656041 1.57772174 1.66924379 1.88762982]\n",
            " [1.29091355 1.05156557 1.33787771 1.06197678 1.05821774]\n",
            " [1.82621113 1.395529   1.81677285 1.71214734 1.71901469]\n",
            " [1.56899875 1.14109128 1.48202801 1.52761375 1.70462287]\n",
            " [1.08188709 1.20762786 1.15475301 1.45963796 1.4708352 ]\n",
            " [1.57888683 1.04737396 1.05946591 1.50406417 1.89965435]\n",
            " [1.52038253 1.56574291 1.41530917 1.32117818 1.19469301]\n",
            " [1.46390924 1.4862417  1.78867139 1.66079868 1.86715985]\n",
            " [1.75384169 1.76410022 1.35117878 1.78194279 1.67614601]\n",
            " [1.78054224 1.06769982 1.44598572 1.19376247 1.95974982]\n",
            " [1.82970505 1.37206518 1.77086888 1.30250839 1.7853407 ]\n",
            " [1.88725473 1.20427485 1.87762758 1.48470008 1.45412371]\n",
            " [1.51385952 1.72285017 1.21617364 1.86058604 1.36998007]\n",
            " [1.49218706 1.27445732 1.79673197 1.89035173 1.8007416 ]\n",
            " [1.33248169 1.24603914 1.62252132 1.92255166 1.95973891]\n",
            " [1.45006831 1.24905684 1.7577058  1.52248194 1.03830352]\n",
            " [1.12090798 1.29357618 1.77872026 1.84840348 1.76873096]\n",
            " [1.73983213 1.45479229 1.72816466 1.98989317 1.06380848]]\n"
          ]
        }
      ],
      "source": [
        "a = np.random.uniform(1, 2, (20,5))\n",
        "print(a)"
      ]
    },
    {
      "cell_type": "code",
      "execution_count": 129,
      "id": "7900204d",
      "metadata": {
        "id": "7900204d"
      },
      "outputs": [],
      "source": [
        "import pandas as pd"
      ]
    },
    {
      "cell_type": "code",
      "execution_count": 130,
      "id": "3c11597d",
      "metadata": {
        "id": "3c11597d"
      },
      "outputs": [],
      "source": [
        "col=[\"a\",\"b\",\"c\",\"d\",\"e\"]\n",
        "d=pd.DataFrame(a,columns=col)"
      ]
    },
    {
      "cell_type": "code",
      "execution_count": 131,
      "id": "2508610e",
      "metadata": {
        "colab": {
          "base_uri": "https://localhost:8080/",
          "height": 363
        },
        "id": "2508610e",
        "outputId": "606cd6dd-ef2f-43f8-a7a5-9dad6cefcb00"
      },
      "outputs": [
        {
          "output_type": "execute_result",
          "data": {
            "text/plain": [
              "          a         b         c         d         e\n",
              "0  1.654749  1.873036  1.624016  1.113055  1.227837\n",
              "1  1.086753  1.372299  1.495870  1.806579  1.752811\n",
              "2  1.916439  1.406560  1.577722  1.669244  1.887630\n",
              "3  1.290914  1.051566  1.337878  1.061977  1.058218\n",
              "4  1.826211  1.395529  1.816773  1.712147  1.719015\n",
              "5  1.568999  1.141091  1.482028  1.527614  1.704623\n",
              "6  1.081887  1.207628  1.154753  1.459638  1.470835\n",
              "7  1.578887  1.047374  1.059466  1.504064  1.899654\n",
              "8  1.520383  1.565743  1.415309  1.321178  1.194693\n",
              "9  1.463909  1.486242  1.788671  1.660799  1.867160"
            ],
            "text/html": [
              "\n",
              "  <div id=\"df-dd4395ad-dde0-4b44-b8dc-a3087e770d25\">\n",
              "    <div class=\"colab-df-container\">\n",
              "      <div>\n",
              "<style scoped>\n",
              "    .dataframe tbody tr th:only-of-type {\n",
              "        vertical-align: middle;\n",
              "    }\n",
              "\n",
              "    .dataframe tbody tr th {\n",
              "        vertical-align: top;\n",
              "    }\n",
              "\n",
              "    .dataframe thead th {\n",
              "        text-align: right;\n",
              "    }\n",
              "</style>\n",
              "<table border=\"1\" class=\"dataframe\">\n",
              "  <thead>\n",
              "    <tr style=\"text-align: right;\">\n",
              "      <th></th>\n",
              "      <th>a</th>\n",
              "      <th>b</th>\n",
              "      <th>c</th>\n",
              "      <th>d</th>\n",
              "      <th>e</th>\n",
              "    </tr>\n",
              "  </thead>\n",
              "  <tbody>\n",
              "    <tr>\n",
              "      <th>0</th>\n",
              "      <td>1.654749</td>\n",
              "      <td>1.873036</td>\n",
              "      <td>1.624016</td>\n",
              "      <td>1.113055</td>\n",
              "      <td>1.227837</td>\n",
              "    </tr>\n",
              "    <tr>\n",
              "      <th>1</th>\n",
              "      <td>1.086753</td>\n",
              "      <td>1.372299</td>\n",
              "      <td>1.495870</td>\n",
              "      <td>1.806579</td>\n",
              "      <td>1.752811</td>\n",
              "    </tr>\n",
              "    <tr>\n",
              "      <th>2</th>\n",
              "      <td>1.916439</td>\n",
              "      <td>1.406560</td>\n",
              "      <td>1.577722</td>\n",
              "      <td>1.669244</td>\n",
              "      <td>1.887630</td>\n",
              "    </tr>\n",
              "    <tr>\n",
              "      <th>3</th>\n",
              "      <td>1.290914</td>\n",
              "      <td>1.051566</td>\n",
              "      <td>1.337878</td>\n",
              "      <td>1.061977</td>\n",
              "      <td>1.058218</td>\n",
              "    </tr>\n",
              "    <tr>\n",
              "      <th>4</th>\n",
              "      <td>1.826211</td>\n",
              "      <td>1.395529</td>\n",
              "      <td>1.816773</td>\n",
              "      <td>1.712147</td>\n",
              "      <td>1.719015</td>\n",
              "    </tr>\n",
              "    <tr>\n",
              "      <th>5</th>\n",
              "      <td>1.568999</td>\n",
              "      <td>1.141091</td>\n",
              "      <td>1.482028</td>\n",
              "      <td>1.527614</td>\n",
              "      <td>1.704623</td>\n",
              "    </tr>\n",
              "    <tr>\n",
              "      <th>6</th>\n",
              "      <td>1.081887</td>\n",
              "      <td>1.207628</td>\n",
              "      <td>1.154753</td>\n",
              "      <td>1.459638</td>\n",
              "      <td>1.470835</td>\n",
              "    </tr>\n",
              "    <tr>\n",
              "      <th>7</th>\n",
              "      <td>1.578887</td>\n",
              "      <td>1.047374</td>\n",
              "      <td>1.059466</td>\n",
              "      <td>1.504064</td>\n",
              "      <td>1.899654</td>\n",
              "    </tr>\n",
              "    <tr>\n",
              "      <th>8</th>\n",
              "      <td>1.520383</td>\n",
              "      <td>1.565743</td>\n",
              "      <td>1.415309</td>\n",
              "      <td>1.321178</td>\n",
              "      <td>1.194693</td>\n",
              "    </tr>\n",
              "    <tr>\n",
              "      <th>9</th>\n",
              "      <td>1.463909</td>\n",
              "      <td>1.486242</td>\n",
              "      <td>1.788671</td>\n",
              "      <td>1.660799</td>\n",
              "      <td>1.867160</td>\n",
              "    </tr>\n",
              "  </tbody>\n",
              "</table>\n",
              "</div>\n",
              "      <button class=\"colab-df-convert\" onclick=\"convertToInteractive('df-dd4395ad-dde0-4b44-b8dc-a3087e770d25')\"\n",
              "              title=\"Convert this dataframe to an interactive table.\"\n",
              "              style=\"display:none;\">\n",
              "        \n",
              "  <svg xmlns=\"http://www.w3.org/2000/svg\" height=\"24px\"viewBox=\"0 0 24 24\"\n",
              "       width=\"24px\">\n",
              "    <path d=\"M0 0h24v24H0V0z\" fill=\"none\"/>\n",
              "    <path d=\"M18.56 5.44l.94 2.06.94-2.06 2.06-.94-2.06-.94-.94-2.06-.94 2.06-2.06.94zm-11 1L8.5 8.5l.94-2.06 2.06-.94-2.06-.94L8.5 2.5l-.94 2.06-2.06.94zm10 10l.94 2.06.94-2.06 2.06-.94-2.06-.94-.94-2.06-.94 2.06-2.06.94z\"/><path d=\"M17.41 7.96l-1.37-1.37c-.4-.4-.92-.59-1.43-.59-.52 0-1.04.2-1.43.59L10.3 9.45l-7.72 7.72c-.78.78-.78 2.05 0 2.83L4 21.41c.39.39.9.59 1.41.59.51 0 1.02-.2 1.41-.59l7.78-7.78 2.81-2.81c.8-.78.8-2.07 0-2.86zM5.41 20L4 18.59l7.72-7.72 1.47 1.35L5.41 20z\"/>\n",
              "  </svg>\n",
              "      </button>\n",
              "      \n",
              "  <style>\n",
              "    .colab-df-container {\n",
              "      display:flex;\n",
              "      flex-wrap:wrap;\n",
              "      gap: 12px;\n",
              "    }\n",
              "\n",
              "    .colab-df-convert {\n",
              "      background-color: #E8F0FE;\n",
              "      border: none;\n",
              "      border-radius: 50%;\n",
              "      cursor: pointer;\n",
              "      display: none;\n",
              "      fill: #1967D2;\n",
              "      height: 32px;\n",
              "      padding: 0 0 0 0;\n",
              "      width: 32px;\n",
              "    }\n",
              "\n",
              "    .colab-df-convert:hover {\n",
              "      background-color: #E2EBFA;\n",
              "      box-shadow: 0px 1px 2px rgba(60, 64, 67, 0.3), 0px 1px 3px 1px rgba(60, 64, 67, 0.15);\n",
              "      fill: #174EA6;\n",
              "    }\n",
              "\n",
              "    [theme=dark] .colab-df-convert {\n",
              "      background-color: #3B4455;\n",
              "      fill: #D2E3FC;\n",
              "    }\n",
              "\n",
              "    [theme=dark] .colab-df-convert:hover {\n",
              "      background-color: #434B5C;\n",
              "      box-shadow: 0px 1px 3px 1px rgba(0, 0, 0, 0.15);\n",
              "      filter: drop-shadow(0px 1px 2px rgba(0, 0, 0, 0.3));\n",
              "      fill: #FFFFFF;\n",
              "    }\n",
              "  </style>\n",
              "\n",
              "      <script>\n",
              "        const buttonEl =\n",
              "          document.querySelector('#df-dd4395ad-dde0-4b44-b8dc-a3087e770d25 button.colab-df-convert');\n",
              "        buttonEl.style.display =\n",
              "          google.colab.kernel.accessAllowed ? 'block' : 'none';\n",
              "\n",
              "        async function convertToInteractive(key) {\n",
              "          const element = document.querySelector('#df-dd4395ad-dde0-4b44-b8dc-a3087e770d25');\n",
              "          const dataTable =\n",
              "            await google.colab.kernel.invokeFunction('convertToInteractive',\n",
              "                                                     [key], {});\n",
              "          if (!dataTable) return;\n",
              "\n",
              "          const docLinkHtml = 'Like what you see? Visit the ' +\n",
              "            '<a target=\"_blank\" href=https://colab.research.google.com/notebooks/data_table.ipynb>data table notebook</a>'\n",
              "            + ' to learn more about interactive tables.';\n",
              "          element.innerHTML = '';\n",
              "          dataTable['output_type'] = 'display_data';\n",
              "          await google.colab.output.renderOutput(dataTable, element);\n",
              "          const docLink = document.createElement('div');\n",
              "          docLink.innerHTML = docLinkHtml;\n",
              "          element.appendChild(docLink);\n",
              "        }\n",
              "      </script>\n",
              "    </div>\n",
              "  </div>\n",
              "  "
            ]
          },
          "metadata": {},
          "execution_count": 131
        }
      ],
      "source": [
        "d.head(10)"
      ]
    },
    {
      "cell_type": "code",
      "execution_count": 132,
      "id": "4b4a3d08",
      "metadata": {
        "colab": {
          "base_uri": "https://localhost:8080/"
        },
        "id": "4b4a3d08",
        "outputId": "654f4890-b28e-4c80-9a4a-bb11acba38b7"
      },
      "outputs": [
        {
          "output_type": "execute_result",
          "data": {
            "text/plain": [
              "a    0.261580\n",
              "b    0.233944\n",
              "c    0.241995\n",
              "d    0.278285\n",
              "e    0.319908\n",
              "dtype: float64"
            ]
          },
          "metadata": {},
          "execution_count": 132
        }
      ],
      "source": [
        "d.std(axis=0)"
      ]
    },
    {
      "cell_type": "code",
      "execution_count": 133,
      "id": "768c8c71",
      "metadata": {
        "colab": {
          "base_uri": "https://localhost:8080/"
        },
        "id": "768c8c71",
        "outputId": "cd08424c-3e3a-48e9-80aa-800bfb214f1a"
      },
      "outputs": [
        {
          "output_type": "stream",
          "name": "stdout",
          "text": [
            "0.3199081290963498\n"
          ]
        }
      ],
      "source": [
        "print(max(d.std(axis=0)))"
      ]
    },
    {
      "cell_type": "code",
      "execution_count": 134,
      "id": "1234abd3",
      "metadata": {
        "colab": {
          "base_uri": "https://localhost:8080/"
        },
        "id": "1234abd3",
        "outputId": "8c63e66d-246d-41fb-da00-334dd371a045"
      },
      "outputs": [
        {
          "output_type": "execute_result",
          "data": {
            "text/plain": [
              "pandas.core.series.Series"
            ]
          },
          "metadata": {},
          "execution_count": 134
        }
      ],
      "source": [
        "type(d.std(axis=0))"
      ]
    },
    {
      "cell_type": "code",
      "execution_count": 135,
      "id": "ee8e2f9c",
      "metadata": {
        "colab": {
          "base_uri": "https://localhost:8080/"
        },
        "id": "ee8e2f9c",
        "outputId": "9c4fa001-833d-4c08-93ac-a2bf8d14580d"
      },
      "outputs": [
        {
          "output_type": "stream",
          "name": "stdout",
          "text": [
            "highest standard deviation 0.3199081290963498\n",
            "Column with highest standard deviation:  e\n",
            "printing the cloumn with highest standard deviation\n",
            " 0     1.227837\n",
            "1     1.752811\n",
            "2     1.887630\n",
            "3     1.058218\n",
            "4     1.719015\n",
            "5     1.704623\n",
            "6     1.470835\n",
            "7     1.899654\n",
            "8     1.194693\n",
            "9     1.867160\n",
            "10    1.676146\n",
            "11    1.959750\n",
            "12    1.785341\n",
            "13    1.454124\n",
            "14    1.369980\n",
            "15    1.800742\n",
            "16    1.959739\n",
            "17    1.038304\n",
            "18    1.768731\n",
            "19    1.063808\n",
            "Name: e, dtype: float64\n"
          ]
        }
      ],
      "source": [
        "columndev=-1\n",
        "maxdev=-1\n",
        "for column in col:\n",
        "    if(d[column].std()>maxdev):\n",
        "        maxdev=d[column].std()\n",
        "        columndev=column\n",
        "print(\"highest standard deviation\",maxdev)\n",
        "print(\"Column with highest standard deviation: \",columndev)\n",
        "print(\"printing the cloumn with highest standard deviation\\n\",d[columndev])"
      ]
    },
    {
      "cell_type": "code",
      "execution_count": 136,
      "id": "9a067a81",
      "metadata": {
        "colab": {
          "base_uri": "https://localhost:8080/"
        },
        "id": "9a067a81",
        "outputId": "6a969d99-eaf6-4722-8ba0-54c1fea96dca"
      },
      "outputs": [
        {
          "output_type": "execute_result",
          "data": {
            "text/plain": [
              "0     1.498539\n",
              "1     1.502862\n",
              "2     1.691519\n",
              "3     1.160110\n",
              "4     1.693935\n",
              "5     1.484871\n",
              "6     1.274948\n",
              "7     1.417889\n",
              "8     1.403461\n",
              "9     1.653356\n",
              "10    1.665442\n",
              "11    1.489548\n",
              "12    1.612098\n",
              "13    1.581596\n",
              "14    1.536690\n",
              "15    1.650894\n",
              "16    1.616667\n",
              "17    1.403523\n",
              "18    1.562068\n",
              "19    1.595298\n",
              "dtype: float64"
            ]
          },
          "metadata": {},
          "execution_count": 136
        }
      ],
      "source": [
        "d.mean(axis=1)"
      ]
    },
    {
      "cell_type": "code",
      "execution_count": 137,
      "id": "f897b06f",
      "metadata": {
        "colab": {
          "base_uri": "https://localhost:8080/"
        },
        "id": "f897b06f",
        "outputId": "4759252e-67e3-48f5-ade1-fdeed314ac8e"
      },
      "outputs": [
        {
          "output_type": "stream",
          "name": "stdout",
          "text": [
            "1.1601102700322943\n"
          ]
        }
      ],
      "source": [
        "print(min(d.mean(axis=1)))"
      ]
    },
    {
      "cell_type": "code",
      "execution_count": 138,
      "id": "5d7bc9ef",
      "metadata": {
        "colab": {
          "base_uri": "https://localhost:8080/"
        },
        "id": "5d7bc9ef",
        "outputId": "1972e647-ca67-40c1-f133-2adfc23a181e"
      },
      "outputs": [
        {
          "output_type": "stream",
          "name": "stdout",
          "text": [
            "        mean\n",
            "0   1.498539\n",
            "1   1.502862\n",
            "2   1.691519\n",
            "3   1.160110\n",
            "4   1.693935\n",
            "5   1.484871\n",
            "6   1.274948\n",
            "7   1.417889\n",
            "8   1.403461\n",
            "9   1.653356\n",
            "10  1.665442\n",
            "11  1.489548\n",
            "12  1.612098\n",
            "13  1.581596\n",
            "14  1.536690\n",
            "15  1.650894\n",
            "16  1.616667\n",
            "17  1.403523\n",
            "18  1.562068\n",
            "19  1.595298\n"
          ]
        }
      ],
      "source": [
        "colmean=[\"mean\"]\n",
        "df1=pd.DataFrame(d.mean(axis=1), columns=colmean)\n",
        "print(df1)"
      ]
    },
    {
      "cell_type": "code",
      "execution_count": 139,
      "id": "f1d6bf11",
      "metadata": {
        "colab": {
          "base_uri": "https://localhost:8080/"
        },
        "id": "f1d6bf11",
        "outputId": "f66bbd6b-1895-4c07-c31f-10f2572d9777"
      },
      "outputs": [
        {
          "output_type": "stream",
          "name": "stdout",
          "text": [
            "      mean\n",
            "3  1.16011\n"
          ]
        }
      ],
      "source": [
        "print(df1[df1[\"mean\"] == df1[\"mean\"].min()])"
      ]
    },
    {
      "cell_type": "code",
      "execution_count": 140,
      "id": "b96070ff",
      "metadata": {
        "colab": {
          "base_uri": "https://localhost:8080/"
        },
        "id": "b96070ff",
        "outputId": "c041cbfc-9b34-4494-8301-94a3019647e0"
      },
      "outputs": [
        {
          "output_type": "stream",
          "name": "stdout",
          "text": [
            "Row with the lowest mean:\n",
            "           a         b         c         d         e\n",
            "3  1.290914  1.051566  1.337878  1.061977  1.058218\n"
          ]
        }
      ],
      "source": [
        "print(\"Row with the lowest mean:\\n\",d[df1[\"mean\"] == df1[\"mean\"].min()])"
      ]
    },
    {
      "cell_type": "markdown",
      "id": "9caa0b5f",
      "metadata": {
        "id": "9caa0b5f"
      },
      "source": [
        "# Q11"
      ]
    },
    {
      "cell_type": "code",
      "execution_count": 141,
      "id": "e90cf381",
      "metadata": {
        "colab": {
          "base_uri": "https://localhost:8080/"
        },
        "id": "e90cf381",
        "outputId": "d3942c6c-fc15-486b-87a9-290acd2e3708"
      },
      "outputs": [
        {
          "output_type": "stream",
          "name": "stdout",
          "text": [
            "0     7.492693\n",
            "1     7.514312\n",
            "2     8.457595\n",
            "3     5.800551\n",
            "4     8.469675\n",
            "5     7.424355\n",
            "6     6.374741\n",
            "7     7.089445\n",
            "8     7.017306\n",
            "9     8.266781\n",
            "10    8.327209\n",
            "11    7.447740\n",
            "12    8.060488\n",
            "13    7.907981\n",
            "14    7.683449\n",
            "15    8.254470\n",
            "16    8.083333\n",
            "17    7.017616\n",
            "18    7.810339\n",
            "19    7.976491\n",
            "dtype: float64\n"
          ]
        }
      ],
      "source": [
        "f=d[\"a\"]+d[\"b\"]+d[\"c\"]+d[\"d\"]+d[\"e\"]\n",
        "print(f)"
      ]
    },
    {
      "cell_type": "code",
      "execution_count": 142,
      "id": "0d53a718",
      "metadata": {
        "colab": {
          "base_uri": "https://localhost:8080/"
        },
        "id": "0d53a718",
        "outputId": "e48a3d32-7dbe-40dc-d0c4-822957cc127b"
      },
      "outputs": [
        {
          "output_type": "execute_result",
          "data": {
            "text/plain": [
              "pandas.core.series.Series"
            ]
          },
          "metadata": {},
          "execution_count": 142
        }
      ],
      "source": [
        "type(f)"
      ]
    },
    {
      "cell_type": "code",
      "execution_count": 143,
      "id": "f819bad9",
      "metadata": {
        "colab": {
          "base_uri": "https://localhost:8080/",
          "height": 206
        },
        "id": "f819bad9",
        "outputId": "5c1084ce-c862-458f-ea1b-d5d75ac860e3"
      },
      "outputs": [
        {
          "output_type": "execute_result",
          "data": {
            "text/plain": [
              "          f\n",
              "0  7.492693\n",
              "1  7.514312\n",
              "2  8.457595\n",
              "3  5.800551\n",
              "4  8.469675"
            ],
            "text/html": [
              "\n",
              "  <div id=\"df-644eb163-03ca-4b81-95d9-24809bc64653\">\n",
              "    <div class=\"colab-df-container\">\n",
              "      <div>\n",
              "<style scoped>\n",
              "    .dataframe tbody tr th:only-of-type {\n",
              "        vertical-align: middle;\n",
              "    }\n",
              "\n",
              "    .dataframe tbody tr th {\n",
              "        vertical-align: top;\n",
              "    }\n",
              "\n",
              "    .dataframe thead th {\n",
              "        text-align: right;\n",
              "    }\n",
              "</style>\n",
              "<table border=\"1\" class=\"dataframe\">\n",
              "  <thead>\n",
              "    <tr style=\"text-align: right;\">\n",
              "      <th></th>\n",
              "      <th>f</th>\n",
              "    </tr>\n",
              "  </thead>\n",
              "  <tbody>\n",
              "    <tr>\n",
              "      <th>0</th>\n",
              "      <td>7.492693</td>\n",
              "    </tr>\n",
              "    <tr>\n",
              "      <th>1</th>\n",
              "      <td>7.514312</td>\n",
              "    </tr>\n",
              "    <tr>\n",
              "      <th>2</th>\n",
              "      <td>8.457595</td>\n",
              "    </tr>\n",
              "    <tr>\n",
              "      <th>3</th>\n",
              "      <td>5.800551</td>\n",
              "    </tr>\n",
              "    <tr>\n",
              "      <th>4</th>\n",
              "      <td>8.469675</td>\n",
              "    </tr>\n",
              "  </tbody>\n",
              "</table>\n",
              "</div>\n",
              "      <button class=\"colab-df-convert\" onclick=\"convertToInteractive('df-644eb163-03ca-4b81-95d9-24809bc64653')\"\n",
              "              title=\"Convert this dataframe to an interactive table.\"\n",
              "              style=\"display:none;\">\n",
              "        \n",
              "  <svg xmlns=\"http://www.w3.org/2000/svg\" height=\"24px\"viewBox=\"0 0 24 24\"\n",
              "       width=\"24px\">\n",
              "    <path d=\"M0 0h24v24H0V0z\" fill=\"none\"/>\n",
              "    <path d=\"M18.56 5.44l.94 2.06.94-2.06 2.06-.94-2.06-.94-.94-2.06-.94 2.06-2.06.94zm-11 1L8.5 8.5l.94-2.06 2.06-.94-2.06-.94L8.5 2.5l-.94 2.06-2.06.94zm10 10l.94 2.06.94-2.06 2.06-.94-2.06-.94-.94-2.06-.94 2.06-2.06.94z\"/><path d=\"M17.41 7.96l-1.37-1.37c-.4-.4-.92-.59-1.43-.59-.52 0-1.04.2-1.43.59L10.3 9.45l-7.72 7.72c-.78.78-.78 2.05 0 2.83L4 21.41c.39.39.9.59 1.41.59.51 0 1.02-.2 1.41-.59l7.78-7.78 2.81-2.81c.8-.78.8-2.07 0-2.86zM5.41 20L4 18.59l7.72-7.72 1.47 1.35L5.41 20z\"/>\n",
              "  </svg>\n",
              "      </button>\n",
              "      \n",
              "  <style>\n",
              "    .colab-df-container {\n",
              "      display:flex;\n",
              "      flex-wrap:wrap;\n",
              "      gap: 12px;\n",
              "    }\n",
              "\n",
              "    .colab-df-convert {\n",
              "      background-color: #E8F0FE;\n",
              "      border: none;\n",
              "      border-radius: 50%;\n",
              "      cursor: pointer;\n",
              "      display: none;\n",
              "      fill: #1967D2;\n",
              "      height: 32px;\n",
              "      padding: 0 0 0 0;\n",
              "      width: 32px;\n",
              "    }\n",
              "\n",
              "    .colab-df-convert:hover {\n",
              "      background-color: #E2EBFA;\n",
              "      box-shadow: 0px 1px 2px rgba(60, 64, 67, 0.3), 0px 1px 3px 1px rgba(60, 64, 67, 0.15);\n",
              "      fill: #174EA6;\n",
              "    }\n",
              "\n",
              "    [theme=dark] .colab-df-convert {\n",
              "      background-color: #3B4455;\n",
              "      fill: #D2E3FC;\n",
              "    }\n",
              "\n",
              "    [theme=dark] .colab-df-convert:hover {\n",
              "      background-color: #434B5C;\n",
              "      box-shadow: 0px 1px 3px 1px rgba(0, 0, 0, 0.15);\n",
              "      filter: drop-shadow(0px 1px 2px rgba(0, 0, 0, 0.3));\n",
              "      fill: #FFFFFF;\n",
              "    }\n",
              "  </style>\n",
              "\n",
              "      <script>\n",
              "        const buttonEl =\n",
              "          document.querySelector('#df-644eb163-03ca-4b81-95d9-24809bc64653 button.colab-df-convert');\n",
              "        buttonEl.style.display =\n",
              "          google.colab.kernel.accessAllowed ? 'block' : 'none';\n",
              "\n",
              "        async function convertToInteractive(key) {\n",
              "          const element = document.querySelector('#df-644eb163-03ca-4b81-95d9-24809bc64653');\n",
              "          const dataTable =\n",
              "            await google.colab.kernel.invokeFunction('convertToInteractive',\n",
              "                                                     [key], {});\n",
              "          if (!dataTable) return;\n",
              "\n",
              "          const docLinkHtml = 'Like what you see? Visit the ' +\n",
              "            '<a target=\"_blank\" href=https://colab.research.google.com/notebooks/data_table.ipynb>data table notebook</a>'\n",
              "            + ' to learn more about interactive tables.';\n",
              "          element.innerHTML = '';\n",
              "          dataTable['output_type'] = 'display_data';\n",
              "          await google.colab.output.renderOutput(dataTable, element);\n",
              "          const docLink = document.createElement('div');\n",
              "          docLink.innerHTML = docLinkHtml;\n",
              "          element.appendChild(docLink);\n",
              "        }\n",
              "      </script>\n",
              "    </div>\n",
              "  </div>\n",
              "  "
            ]
          },
          "metadata": {},
          "execution_count": 143
        }
      ],
      "source": [
        "df=pd.DataFrame(f,columns=[\"f\"])\n",
        "df.head()"
      ]
    },
    {
      "cell_type": "code",
      "execution_count": 144,
      "id": "559c65f0",
      "metadata": {
        "colab": {
          "base_uri": "https://localhost:8080/",
          "height": 206
        },
        "id": "559c65f0",
        "outputId": "4a7ec4ab-b3ba-40c8-9cb5-dd2911a6a815"
      },
      "outputs": [
        {
          "output_type": "execute_result",
          "data": {
            "text/plain": [
              "          a         b         c         d         e         f\n",
              "0  1.654749  1.873036  1.624016  1.113055  1.227837  7.492693\n",
              "1  1.086753  1.372299  1.495870  1.806579  1.752811  7.514312\n",
              "2  1.916439  1.406560  1.577722  1.669244  1.887630  8.457595\n",
              "3  1.290914  1.051566  1.337878  1.061977  1.058218  5.800551\n",
              "4  1.826211  1.395529  1.816773  1.712147  1.719015  8.469675"
            ],
            "text/html": [
              "\n",
              "  <div id=\"df-884f526c-e672-46d1-98d1-6a3625667224\">\n",
              "    <div class=\"colab-df-container\">\n",
              "      <div>\n",
              "<style scoped>\n",
              "    .dataframe tbody tr th:only-of-type {\n",
              "        vertical-align: middle;\n",
              "    }\n",
              "\n",
              "    .dataframe tbody tr th {\n",
              "        vertical-align: top;\n",
              "    }\n",
              "\n",
              "    .dataframe thead th {\n",
              "        text-align: right;\n",
              "    }\n",
              "</style>\n",
              "<table border=\"1\" class=\"dataframe\">\n",
              "  <thead>\n",
              "    <tr style=\"text-align: right;\">\n",
              "      <th></th>\n",
              "      <th>a</th>\n",
              "      <th>b</th>\n",
              "      <th>c</th>\n",
              "      <th>d</th>\n",
              "      <th>e</th>\n",
              "      <th>f</th>\n",
              "    </tr>\n",
              "  </thead>\n",
              "  <tbody>\n",
              "    <tr>\n",
              "      <th>0</th>\n",
              "      <td>1.654749</td>\n",
              "      <td>1.873036</td>\n",
              "      <td>1.624016</td>\n",
              "      <td>1.113055</td>\n",
              "      <td>1.227837</td>\n",
              "      <td>7.492693</td>\n",
              "    </tr>\n",
              "    <tr>\n",
              "      <th>1</th>\n",
              "      <td>1.086753</td>\n",
              "      <td>1.372299</td>\n",
              "      <td>1.495870</td>\n",
              "      <td>1.806579</td>\n",
              "      <td>1.752811</td>\n",
              "      <td>7.514312</td>\n",
              "    </tr>\n",
              "    <tr>\n",
              "      <th>2</th>\n",
              "      <td>1.916439</td>\n",
              "      <td>1.406560</td>\n",
              "      <td>1.577722</td>\n",
              "      <td>1.669244</td>\n",
              "      <td>1.887630</td>\n",
              "      <td>8.457595</td>\n",
              "    </tr>\n",
              "    <tr>\n",
              "      <th>3</th>\n",
              "      <td>1.290914</td>\n",
              "      <td>1.051566</td>\n",
              "      <td>1.337878</td>\n",
              "      <td>1.061977</td>\n",
              "      <td>1.058218</td>\n",
              "      <td>5.800551</td>\n",
              "    </tr>\n",
              "    <tr>\n",
              "      <th>4</th>\n",
              "      <td>1.826211</td>\n",
              "      <td>1.395529</td>\n",
              "      <td>1.816773</td>\n",
              "      <td>1.712147</td>\n",
              "      <td>1.719015</td>\n",
              "      <td>8.469675</td>\n",
              "    </tr>\n",
              "  </tbody>\n",
              "</table>\n",
              "</div>\n",
              "      <button class=\"colab-df-convert\" onclick=\"convertToInteractive('df-884f526c-e672-46d1-98d1-6a3625667224')\"\n",
              "              title=\"Convert this dataframe to an interactive table.\"\n",
              "              style=\"display:none;\">\n",
              "        \n",
              "  <svg xmlns=\"http://www.w3.org/2000/svg\" height=\"24px\"viewBox=\"0 0 24 24\"\n",
              "       width=\"24px\">\n",
              "    <path d=\"M0 0h24v24H0V0z\" fill=\"none\"/>\n",
              "    <path d=\"M18.56 5.44l.94 2.06.94-2.06 2.06-.94-2.06-.94-.94-2.06-.94 2.06-2.06.94zm-11 1L8.5 8.5l.94-2.06 2.06-.94-2.06-.94L8.5 2.5l-.94 2.06-2.06.94zm10 10l.94 2.06.94-2.06 2.06-.94-2.06-.94-.94-2.06-.94 2.06-2.06.94z\"/><path d=\"M17.41 7.96l-1.37-1.37c-.4-.4-.92-.59-1.43-.59-.52 0-1.04.2-1.43.59L10.3 9.45l-7.72 7.72c-.78.78-.78 2.05 0 2.83L4 21.41c.39.39.9.59 1.41.59.51 0 1.02-.2 1.41-.59l7.78-7.78 2.81-2.81c.8-.78.8-2.07 0-2.86zM5.41 20L4 18.59l7.72-7.72 1.47 1.35L5.41 20z\"/>\n",
              "  </svg>\n",
              "      </button>\n",
              "      \n",
              "  <style>\n",
              "    .colab-df-container {\n",
              "      display:flex;\n",
              "      flex-wrap:wrap;\n",
              "      gap: 12px;\n",
              "    }\n",
              "\n",
              "    .colab-df-convert {\n",
              "      background-color: #E8F0FE;\n",
              "      border: none;\n",
              "      border-radius: 50%;\n",
              "      cursor: pointer;\n",
              "      display: none;\n",
              "      fill: #1967D2;\n",
              "      height: 32px;\n",
              "      padding: 0 0 0 0;\n",
              "      width: 32px;\n",
              "    }\n",
              "\n",
              "    .colab-df-convert:hover {\n",
              "      background-color: #E2EBFA;\n",
              "      box-shadow: 0px 1px 2px rgba(60, 64, 67, 0.3), 0px 1px 3px 1px rgba(60, 64, 67, 0.15);\n",
              "      fill: #174EA6;\n",
              "    }\n",
              "\n",
              "    [theme=dark] .colab-df-convert {\n",
              "      background-color: #3B4455;\n",
              "      fill: #D2E3FC;\n",
              "    }\n",
              "\n",
              "    [theme=dark] .colab-df-convert:hover {\n",
              "      background-color: #434B5C;\n",
              "      box-shadow: 0px 1px 3px 1px rgba(0, 0, 0, 0.15);\n",
              "      filter: drop-shadow(0px 1px 2px rgba(0, 0, 0, 0.3));\n",
              "      fill: #FFFFFF;\n",
              "    }\n",
              "  </style>\n",
              "\n",
              "      <script>\n",
              "        const buttonEl =\n",
              "          document.querySelector('#df-884f526c-e672-46d1-98d1-6a3625667224 button.colab-df-convert');\n",
              "        buttonEl.style.display =\n",
              "          google.colab.kernel.accessAllowed ? 'block' : 'none';\n",
              "\n",
              "        async function convertToInteractive(key) {\n",
              "          const element = document.querySelector('#df-884f526c-e672-46d1-98d1-6a3625667224');\n",
              "          const dataTable =\n",
              "            await google.colab.kernel.invokeFunction('convertToInteractive',\n",
              "                                                     [key], {});\n",
              "          if (!dataTable) return;\n",
              "\n",
              "          const docLinkHtml = 'Like what you see? Visit the ' +\n",
              "            '<a target=\"_blank\" href=https://colab.research.google.com/notebooks/data_table.ipynb>data table notebook</a>'\n",
              "            + ' to learn more about interactive tables.';\n",
              "          element.innerHTML = '';\n",
              "          dataTable['output_type'] = 'display_data';\n",
              "          await google.colab.output.renderOutput(dataTable, element);\n",
              "          const docLink = document.createElement('div');\n",
              "          docLink.innerHTML = docLinkHtml;\n",
              "          element.appendChild(docLink);\n",
              "        }\n",
              "      </script>\n",
              "    </div>\n",
              "  </div>\n",
              "  "
            ]
          },
          "metadata": {},
          "execution_count": 144
        }
      ],
      "source": [
        "df2 = pd.concat([d, df], axis=1)\n",
        "df2.head()"
      ]
    },
    {
      "cell_type": "code",
      "execution_count": 145,
      "id": "221f778a",
      "metadata": {
        "id": "221f778a"
      },
      "outputs": [],
      "source": [
        "df2[\"g\"] = np.where(df2[\"f\"] >= 8, \"GT8\", \"LT8\")"
      ]
    },
    {
      "cell_type": "code",
      "execution_count": 146,
      "id": "40c3591d",
      "metadata": {
        "colab": {
          "base_uri": "https://localhost:8080/",
          "height": 206
        },
        "id": "40c3591d",
        "outputId": "594ddb27-9cdd-49b3-8e38-76234b6a7e5b"
      },
      "outputs": [
        {
          "output_type": "execute_result",
          "data": {
            "text/plain": [
              "          a         b         c         d         e         f    g\n",
              "0  1.654749  1.873036  1.624016  1.113055  1.227837  7.492693  LT8\n",
              "1  1.086753  1.372299  1.495870  1.806579  1.752811  7.514312  LT8\n",
              "2  1.916439  1.406560  1.577722  1.669244  1.887630  8.457595  GT8\n",
              "3  1.290914  1.051566  1.337878  1.061977  1.058218  5.800551  LT8\n",
              "4  1.826211  1.395529  1.816773  1.712147  1.719015  8.469675  GT8"
            ],
            "text/html": [
              "\n",
              "  <div id=\"df-44ce2a47-edcb-4758-99ff-99bacac63434\">\n",
              "    <div class=\"colab-df-container\">\n",
              "      <div>\n",
              "<style scoped>\n",
              "    .dataframe tbody tr th:only-of-type {\n",
              "        vertical-align: middle;\n",
              "    }\n",
              "\n",
              "    .dataframe tbody tr th {\n",
              "        vertical-align: top;\n",
              "    }\n",
              "\n",
              "    .dataframe thead th {\n",
              "        text-align: right;\n",
              "    }\n",
              "</style>\n",
              "<table border=\"1\" class=\"dataframe\">\n",
              "  <thead>\n",
              "    <tr style=\"text-align: right;\">\n",
              "      <th></th>\n",
              "      <th>a</th>\n",
              "      <th>b</th>\n",
              "      <th>c</th>\n",
              "      <th>d</th>\n",
              "      <th>e</th>\n",
              "      <th>f</th>\n",
              "      <th>g</th>\n",
              "    </tr>\n",
              "  </thead>\n",
              "  <tbody>\n",
              "    <tr>\n",
              "      <th>0</th>\n",
              "      <td>1.654749</td>\n",
              "      <td>1.873036</td>\n",
              "      <td>1.624016</td>\n",
              "      <td>1.113055</td>\n",
              "      <td>1.227837</td>\n",
              "      <td>7.492693</td>\n",
              "      <td>LT8</td>\n",
              "    </tr>\n",
              "    <tr>\n",
              "      <th>1</th>\n",
              "      <td>1.086753</td>\n",
              "      <td>1.372299</td>\n",
              "      <td>1.495870</td>\n",
              "      <td>1.806579</td>\n",
              "      <td>1.752811</td>\n",
              "      <td>7.514312</td>\n",
              "      <td>LT8</td>\n",
              "    </tr>\n",
              "    <tr>\n",
              "      <th>2</th>\n",
              "      <td>1.916439</td>\n",
              "      <td>1.406560</td>\n",
              "      <td>1.577722</td>\n",
              "      <td>1.669244</td>\n",
              "      <td>1.887630</td>\n",
              "      <td>8.457595</td>\n",
              "      <td>GT8</td>\n",
              "    </tr>\n",
              "    <tr>\n",
              "      <th>3</th>\n",
              "      <td>1.290914</td>\n",
              "      <td>1.051566</td>\n",
              "      <td>1.337878</td>\n",
              "      <td>1.061977</td>\n",
              "      <td>1.058218</td>\n",
              "      <td>5.800551</td>\n",
              "      <td>LT8</td>\n",
              "    </tr>\n",
              "    <tr>\n",
              "      <th>4</th>\n",
              "      <td>1.826211</td>\n",
              "      <td>1.395529</td>\n",
              "      <td>1.816773</td>\n",
              "      <td>1.712147</td>\n",
              "      <td>1.719015</td>\n",
              "      <td>8.469675</td>\n",
              "      <td>GT8</td>\n",
              "    </tr>\n",
              "  </tbody>\n",
              "</table>\n",
              "</div>\n",
              "      <button class=\"colab-df-convert\" onclick=\"convertToInteractive('df-44ce2a47-edcb-4758-99ff-99bacac63434')\"\n",
              "              title=\"Convert this dataframe to an interactive table.\"\n",
              "              style=\"display:none;\">\n",
              "        \n",
              "  <svg xmlns=\"http://www.w3.org/2000/svg\" height=\"24px\"viewBox=\"0 0 24 24\"\n",
              "       width=\"24px\">\n",
              "    <path d=\"M0 0h24v24H0V0z\" fill=\"none\"/>\n",
              "    <path d=\"M18.56 5.44l.94 2.06.94-2.06 2.06-.94-2.06-.94-.94-2.06-.94 2.06-2.06.94zm-11 1L8.5 8.5l.94-2.06 2.06-.94-2.06-.94L8.5 2.5l-.94 2.06-2.06.94zm10 10l.94 2.06.94-2.06 2.06-.94-2.06-.94-.94-2.06-.94 2.06-2.06.94z\"/><path d=\"M17.41 7.96l-1.37-1.37c-.4-.4-.92-.59-1.43-.59-.52 0-1.04.2-1.43.59L10.3 9.45l-7.72 7.72c-.78.78-.78 2.05 0 2.83L4 21.41c.39.39.9.59 1.41.59.51 0 1.02-.2 1.41-.59l7.78-7.78 2.81-2.81c.8-.78.8-2.07 0-2.86zM5.41 20L4 18.59l7.72-7.72 1.47 1.35L5.41 20z\"/>\n",
              "  </svg>\n",
              "      </button>\n",
              "      \n",
              "  <style>\n",
              "    .colab-df-container {\n",
              "      display:flex;\n",
              "      flex-wrap:wrap;\n",
              "      gap: 12px;\n",
              "    }\n",
              "\n",
              "    .colab-df-convert {\n",
              "      background-color: #E8F0FE;\n",
              "      border: none;\n",
              "      border-radius: 50%;\n",
              "      cursor: pointer;\n",
              "      display: none;\n",
              "      fill: #1967D2;\n",
              "      height: 32px;\n",
              "      padding: 0 0 0 0;\n",
              "      width: 32px;\n",
              "    }\n",
              "\n",
              "    .colab-df-convert:hover {\n",
              "      background-color: #E2EBFA;\n",
              "      box-shadow: 0px 1px 2px rgba(60, 64, 67, 0.3), 0px 1px 3px 1px rgba(60, 64, 67, 0.15);\n",
              "      fill: #174EA6;\n",
              "    }\n",
              "\n",
              "    [theme=dark] .colab-df-convert {\n",
              "      background-color: #3B4455;\n",
              "      fill: #D2E3FC;\n",
              "    }\n",
              "\n",
              "    [theme=dark] .colab-df-convert:hover {\n",
              "      background-color: #434B5C;\n",
              "      box-shadow: 0px 1px 3px 1px rgba(0, 0, 0, 0.15);\n",
              "      filter: drop-shadow(0px 1px 2px rgba(0, 0, 0, 0.3));\n",
              "      fill: #FFFFFF;\n",
              "    }\n",
              "  </style>\n",
              "\n",
              "      <script>\n",
              "        const buttonEl =\n",
              "          document.querySelector('#df-44ce2a47-edcb-4758-99ff-99bacac63434 button.colab-df-convert');\n",
              "        buttonEl.style.display =\n",
              "          google.colab.kernel.accessAllowed ? 'block' : 'none';\n",
              "\n",
              "        async function convertToInteractive(key) {\n",
              "          const element = document.querySelector('#df-44ce2a47-edcb-4758-99ff-99bacac63434');\n",
              "          const dataTable =\n",
              "            await google.colab.kernel.invokeFunction('convertToInteractive',\n",
              "                                                     [key], {});\n",
              "          if (!dataTable) return;\n",
              "\n",
              "          const docLinkHtml = 'Like what you see? Visit the ' +\n",
              "            '<a target=\"_blank\" href=https://colab.research.google.com/notebooks/data_table.ipynb>data table notebook</a>'\n",
              "            + ' to learn more about interactive tables.';\n",
              "          element.innerHTML = '';\n",
              "          dataTable['output_type'] = 'display_data';\n",
              "          await google.colab.output.renderOutput(dataTable, element);\n",
              "          const docLink = document.createElement('div');\n",
              "          docLink.innerHTML = docLinkHtml;\n",
              "          element.appendChild(docLink);\n",
              "        }\n",
              "      </script>\n",
              "    </div>\n",
              "  </div>\n",
              "  "
            ]
          },
          "metadata": {},
          "execution_count": 146
        }
      ],
      "source": [
        "df2.head()"
      ]
    },
    {
      "cell_type": "code",
      "execution_count": 147,
      "id": "b3e44037",
      "metadata": {
        "colab": {
          "base_uri": "https://localhost:8080/"
        },
        "id": "b3e44037",
        "outputId": "6773780b-8fab-464e-b009-fcbc6ee6f93f"
      },
      "outputs": [
        {
          "output_type": "stream",
          "name": "stdout",
          "text": [
            "The number of rows in the dataframe where the value in the column “g” is “LT8”:  13\n"
          ]
        }
      ],
      "source": [
        "print(\"The number of rows in the dataframe where the value in the column “g” is “LT8”: \", df2[df2.f<8].shape[0])"
      ]
    },
    {
      "cell_type": "code",
      "execution_count": 148,
      "id": "35136470",
      "metadata": {
        "colab": {
          "base_uri": "https://localhost:8080/"
        },
        "id": "35136470",
        "outputId": "9028f6bc-dacd-42d3-f721-3e13bd9ece0e"
      },
      "outputs": [
        {
          "output_type": "stream",
          "name": "stdout",
          "text": [
            "0.7021474027682498\n"
          ]
        }
      ],
      "source": [
        "print(df2[\"f\"].std())"
      ]
    },
    {
      "cell_type": "code",
      "execution_count": 149,
      "id": "f50843a2",
      "metadata": {
        "colab": {
          "base_uri": "https://localhost:8080/",
          "height": 457
        },
        "id": "f50843a2",
        "outputId": "b36c7215-72df-4834-cb8b-c72fe3eb2872"
      },
      "outputs": [
        {
          "output_type": "execute_result",
          "data": {
            "text/plain": [
              "           a         b         c         d         e         f    g\n",
              "0   1.654749  1.873036  1.624016  1.113055  1.227837  7.492693  LT8\n",
              "1   1.086753  1.372299  1.495870  1.806579  1.752811  7.514312  LT8\n",
              "3   1.290914  1.051566  1.337878  1.061977  1.058218  5.800551  LT8\n",
              "5   1.568999  1.141091  1.482028  1.527614  1.704623  7.424355  LT8\n",
              "6   1.081887  1.207628  1.154753  1.459638  1.470835  6.374741  LT8\n",
              "7   1.578887  1.047374  1.059466  1.504064  1.899654  7.089445  LT8\n",
              "8   1.520383  1.565743  1.415309  1.321178  1.194693  7.017306  LT8\n",
              "11  1.780542  1.067700  1.445986  1.193762  1.959750  7.447740  LT8\n",
              "13  1.887255  1.204275  1.877628  1.484700  1.454124  7.907981  LT8\n",
              "14  1.513860  1.722850  1.216174  1.860586  1.369980  7.683449  LT8\n",
              "17  1.450068  1.249057  1.757706  1.522482  1.038304  7.017616  LT8\n",
              "18  1.120908  1.293576  1.778720  1.848403  1.768731  7.810339  LT8\n",
              "19  1.739832  1.454792  1.728165  1.989893  1.063808  7.976491  LT8"
            ],
            "text/html": [
              "\n",
              "  <div id=\"df-2852d8d6-4744-4f4b-9517-e3b4f42e62a3\">\n",
              "    <div class=\"colab-df-container\">\n",
              "      <div>\n",
              "<style scoped>\n",
              "    .dataframe tbody tr th:only-of-type {\n",
              "        vertical-align: middle;\n",
              "    }\n",
              "\n",
              "    .dataframe tbody tr th {\n",
              "        vertical-align: top;\n",
              "    }\n",
              "\n",
              "    .dataframe thead th {\n",
              "        text-align: right;\n",
              "    }\n",
              "</style>\n",
              "<table border=\"1\" class=\"dataframe\">\n",
              "  <thead>\n",
              "    <tr style=\"text-align: right;\">\n",
              "      <th></th>\n",
              "      <th>a</th>\n",
              "      <th>b</th>\n",
              "      <th>c</th>\n",
              "      <th>d</th>\n",
              "      <th>e</th>\n",
              "      <th>f</th>\n",
              "      <th>g</th>\n",
              "    </tr>\n",
              "  </thead>\n",
              "  <tbody>\n",
              "    <tr>\n",
              "      <th>0</th>\n",
              "      <td>1.654749</td>\n",
              "      <td>1.873036</td>\n",
              "      <td>1.624016</td>\n",
              "      <td>1.113055</td>\n",
              "      <td>1.227837</td>\n",
              "      <td>7.492693</td>\n",
              "      <td>LT8</td>\n",
              "    </tr>\n",
              "    <tr>\n",
              "      <th>1</th>\n",
              "      <td>1.086753</td>\n",
              "      <td>1.372299</td>\n",
              "      <td>1.495870</td>\n",
              "      <td>1.806579</td>\n",
              "      <td>1.752811</td>\n",
              "      <td>7.514312</td>\n",
              "      <td>LT8</td>\n",
              "    </tr>\n",
              "    <tr>\n",
              "      <th>3</th>\n",
              "      <td>1.290914</td>\n",
              "      <td>1.051566</td>\n",
              "      <td>1.337878</td>\n",
              "      <td>1.061977</td>\n",
              "      <td>1.058218</td>\n",
              "      <td>5.800551</td>\n",
              "      <td>LT8</td>\n",
              "    </tr>\n",
              "    <tr>\n",
              "      <th>5</th>\n",
              "      <td>1.568999</td>\n",
              "      <td>1.141091</td>\n",
              "      <td>1.482028</td>\n",
              "      <td>1.527614</td>\n",
              "      <td>1.704623</td>\n",
              "      <td>7.424355</td>\n",
              "      <td>LT8</td>\n",
              "    </tr>\n",
              "    <tr>\n",
              "      <th>6</th>\n",
              "      <td>1.081887</td>\n",
              "      <td>1.207628</td>\n",
              "      <td>1.154753</td>\n",
              "      <td>1.459638</td>\n",
              "      <td>1.470835</td>\n",
              "      <td>6.374741</td>\n",
              "      <td>LT8</td>\n",
              "    </tr>\n",
              "    <tr>\n",
              "      <th>7</th>\n",
              "      <td>1.578887</td>\n",
              "      <td>1.047374</td>\n",
              "      <td>1.059466</td>\n",
              "      <td>1.504064</td>\n",
              "      <td>1.899654</td>\n",
              "      <td>7.089445</td>\n",
              "      <td>LT8</td>\n",
              "    </tr>\n",
              "    <tr>\n",
              "      <th>8</th>\n",
              "      <td>1.520383</td>\n",
              "      <td>1.565743</td>\n",
              "      <td>1.415309</td>\n",
              "      <td>1.321178</td>\n",
              "      <td>1.194693</td>\n",
              "      <td>7.017306</td>\n",
              "      <td>LT8</td>\n",
              "    </tr>\n",
              "    <tr>\n",
              "      <th>11</th>\n",
              "      <td>1.780542</td>\n",
              "      <td>1.067700</td>\n",
              "      <td>1.445986</td>\n",
              "      <td>1.193762</td>\n",
              "      <td>1.959750</td>\n",
              "      <td>7.447740</td>\n",
              "      <td>LT8</td>\n",
              "    </tr>\n",
              "    <tr>\n",
              "      <th>13</th>\n",
              "      <td>1.887255</td>\n",
              "      <td>1.204275</td>\n",
              "      <td>1.877628</td>\n",
              "      <td>1.484700</td>\n",
              "      <td>1.454124</td>\n",
              "      <td>7.907981</td>\n",
              "      <td>LT8</td>\n",
              "    </tr>\n",
              "    <tr>\n",
              "      <th>14</th>\n",
              "      <td>1.513860</td>\n",
              "      <td>1.722850</td>\n",
              "      <td>1.216174</td>\n",
              "      <td>1.860586</td>\n",
              "      <td>1.369980</td>\n",
              "      <td>7.683449</td>\n",
              "      <td>LT8</td>\n",
              "    </tr>\n",
              "    <tr>\n",
              "      <th>17</th>\n",
              "      <td>1.450068</td>\n",
              "      <td>1.249057</td>\n",
              "      <td>1.757706</td>\n",
              "      <td>1.522482</td>\n",
              "      <td>1.038304</td>\n",
              "      <td>7.017616</td>\n",
              "      <td>LT8</td>\n",
              "    </tr>\n",
              "    <tr>\n",
              "      <th>18</th>\n",
              "      <td>1.120908</td>\n",
              "      <td>1.293576</td>\n",
              "      <td>1.778720</td>\n",
              "      <td>1.848403</td>\n",
              "      <td>1.768731</td>\n",
              "      <td>7.810339</td>\n",
              "      <td>LT8</td>\n",
              "    </tr>\n",
              "    <tr>\n",
              "      <th>19</th>\n",
              "      <td>1.739832</td>\n",
              "      <td>1.454792</td>\n",
              "      <td>1.728165</td>\n",
              "      <td>1.989893</td>\n",
              "      <td>1.063808</td>\n",
              "      <td>7.976491</td>\n",
              "      <td>LT8</td>\n",
              "    </tr>\n",
              "  </tbody>\n",
              "</table>\n",
              "</div>\n",
              "      <button class=\"colab-df-convert\" onclick=\"convertToInteractive('df-2852d8d6-4744-4f4b-9517-e3b4f42e62a3')\"\n",
              "              title=\"Convert this dataframe to an interactive table.\"\n",
              "              style=\"display:none;\">\n",
              "        \n",
              "  <svg xmlns=\"http://www.w3.org/2000/svg\" height=\"24px\"viewBox=\"0 0 24 24\"\n",
              "       width=\"24px\">\n",
              "    <path d=\"M0 0h24v24H0V0z\" fill=\"none\"/>\n",
              "    <path d=\"M18.56 5.44l.94 2.06.94-2.06 2.06-.94-2.06-.94-.94-2.06-.94 2.06-2.06.94zm-11 1L8.5 8.5l.94-2.06 2.06-.94-2.06-.94L8.5 2.5l-.94 2.06-2.06.94zm10 10l.94 2.06.94-2.06 2.06-.94-2.06-.94-.94-2.06-.94 2.06-2.06.94z\"/><path d=\"M17.41 7.96l-1.37-1.37c-.4-.4-.92-.59-1.43-.59-.52 0-1.04.2-1.43.59L10.3 9.45l-7.72 7.72c-.78.78-.78 2.05 0 2.83L4 21.41c.39.39.9.59 1.41.59.51 0 1.02-.2 1.41-.59l7.78-7.78 2.81-2.81c.8-.78.8-2.07 0-2.86zM5.41 20L4 18.59l7.72-7.72 1.47 1.35L5.41 20z\"/>\n",
              "  </svg>\n",
              "      </button>\n",
              "      \n",
              "  <style>\n",
              "    .colab-df-container {\n",
              "      display:flex;\n",
              "      flex-wrap:wrap;\n",
              "      gap: 12px;\n",
              "    }\n",
              "\n",
              "    .colab-df-convert {\n",
              "      background-color: #E8F0FE;\n",
              "      border: none;\n",
              "      border-radius: 50%;\n",
              "      cursor: pointer;\n",
              "      display: none;\n",
              "      fill: #1967D2;\n",
              "      height: 32px;\n",
              "      padding: 0 0 0 0;\n",
              "      width: 32px;\n",
              "    }\n",
              "\n",
              "    .colab-df-convert:hover {\n",
              "      background-color: #E2EBFA;\n",
              "      box-shadow: 0px 1px 2px rgba(60, 64, 67, 0.3), 0px 1px 3px 1px rgba(60, 64, 67, 0.15);\n",
              "      fill: #174EA6;\n",
              "    }\n",
              "\n",
              "    [theme=dark] .colab-df-convert {\n",
              "      background-color: #3B4455;\n",
              "      fill: #D2E3FC;\n",
              "    }\n",
              "\n",
              "    [theme=dark] .colab-df-convert:hover {\n",
              "      background-color: #434B5C;\n",
              "      box-shadow: 0px 1px 3px 1px rgba(0, 0, 0, 0.15);\n",
              "      filter: drop-shadow(0px 1px 2px rgba(0, 0, 0, 0.3));\n",
              "      fill: #FFFFFF;\n",
              "    }\n",
              "  </style>\n",
              "\n",
              "      <script>\n",
              "        const buttonEl =\n",
              "          document.querySelector('#df-2852d8d6-4744-4f4b-9517-e3b4f42e62a3 button.colab-df-convert');\n",
              "        buttonEl.style.display =\n",
              "          google.colab.kernel.accessAllowed ? 'block' : 'none';\n",
              "\n",
              "        async function convertToInteractive(key) {\n",
              "          const element = document.querySelector('#df-2852d8d6-4744-4f4b-9517-e3b4f42e62a3');\n",
              "          const dataTable =\n",
              "            await google.colab.kernel.invokeFunction('convertToInteractive',\n",
              "                                                     [key], {});\n",
              "          if (!dataTable) return;\n",
              "\n",
              "          const docLinkHtml = 'Like what you see? Visit the ' +\n",
              "            '<a target=\"_blank\" href=https://colab.research.google.com/notebooks/data_table.ipynb>data table notebook</a>'\n",
              "            + ' to learn more about interactive tables.';\n",
              "          element.innerHTML = '';\n",
              "          dataTable['output_type'] = 'display_data';\n",
              "          await google.colab.output.renderOutput(dataTable, element);\n",
              "          const docLink = document.createElement('div');\n",
              "          docLink.innerHTML = docLinkHtml;\n",
              "          element.appendChild(docLink);\n",
              "        }\n",
              "      </script>\n",
              "    </div>\n",
              "  </div>\n",
              "  "
            ]
          },
          "metadata": {},
          "execution_count": 149
        }
      ],
      "source": [
        "isLT8=df2.g==\"LT8\"\n",
        "df2[isLT8]"
      ]
    },
    {
      "cell_type": "code",
      "execution_count": 150,
      "id": "7031797d",
      "metadata": {
        "colab": {
          "base_uri": "https://localhost:8080/"
        },
        "id": "7031797d",
        "outputId": "55288727-0da0-47a9-8fe4-803efebe44ac"
      },
      "outputs": [
        {
          "output_type": "stream",
          "name": "stdout",
          "text": [
            "The standard deviation of the column “f” for the rows where the value in the column “g” is “LT8”:  0.6227962752435128\n"
          ]
        }
      ],
      "source": [
        "print(\"The standard deviation of the column “f” for the rows where the value in the column “g” is “LT8”: \", df2[isLT8][\"f\"].std())"
      ]
    },
    {
      "cell_type": "code",
      "execution_count": 151,
      "id": "f1db66d9",
      "metadata": {
        "colab": {
          "base_uri": "https://localhost:8080/",
          "height": 269
        },
        "id": "f1db66d9",
        "outputId": "1198cd4a-71eb-4328-b1a8-0acf03b26ab0"
      },
      "outputs": [
        {
          "output_type": "execute_result",
          "data": {
            "text/plain": [
              "           a         b         c         d         e         f    g\n",
              "2   1.916439  1.406560  1.577722  1.669244  1.887630  8.457595  GT8\n",
              "4   1.826211  1.395529  1.816773  1.712147  1.719015  8.469675  GT8\n",
              "9   1.463909  1.486242  1.788671  1.660799  1.867160  8.266781  GT8\n",
              "10  1.753842  1.764100  1.351179  1.781943  1.676146  8.327209  GT8\n",
              "12  1.829705  1.372065  1.770869  1.302508  1.785341  8.060488  GT8\n",
              "15  1.492187  1.274457  1.796732  1.890352  1.800742  8.254470  GT8\n",
              "16  1.332482  1.246039  1.622521  1.922552  1.959739  8.083333  GT8"
            ],
            "text/html": [
              "\n",
              "  <div id=\"df-838c2349-3a3a-4d50-8ebe-0ac96d260d0c\">\n",
              "    <div class=\"colab-df-container\">\n",
              "      <div>\n",
              "<style scoped>\n",
              "    .dataframe tbody tr th:only-of-type {\n",
              "        vertical-align: middle;\n",
              "    }\n",
              "\n",
              "    .dataframe tbody tr th {\n",
              "        vertical-align: top;\n",
              "    }\n",
              "\n",
              "    .dataframe thead th {\n",
              "        text-align: right;\n",
              "    }\n",
              "</style>\n",
              "<table border=\"1\" class=\"dataframe\">\n",
              "  <thead>\n",
              "    <tr style=\"text-align: right;\">\n",
              "      <th></th>\n",
              "      <th>a</th>\n",
              "      <th>b</th>\n",
              "      <th>c</th>\n",
              "      <th>d</th>\n",
              "      <th>e</th>\n",
              "      <th>f</th>\n",
              "      <th>g</th>\n",
              "    </tr>\n",
              "  </thead>\n",
              "  <tbody>\n",
              "    <tr>\n",
              "      <th>2</th>\n",
              "      <td>1.916439</td>\n",
              "      <td>1.406560</td>\n",
              "      <td>1.577722</td>\n",
              "      <td>1.669244</td>\n",
              "      <td>1.887630</td>\n",
              "      <td>8.457595</td>\n",
              "      <td>GT8</td>\n",
              "    </tr>\n",
              "    <tr>\n",
              "      <th>4</th>\n",
              "      <td>1.826211</td>\n",
              "      <td>1.395529</td>\n",
              "      <td>1.816773</td>\n",
              "      <td>1.712147</td>\n",
              "      <td>1.719015</td>\n",
              "      <td>8.469675</td>\n",
              "      <td>GT8</td>\n",
              "    </tr>\n",
              "    <tr>\n",
              "      <th>9</th>\n",
              "      <td>1.463909</td>\n",
              "      <td>1.486242</td>\n",
              "      <td>1.788671</td>\n",
              "      <td>1.660799</td>\n",
              "      <td>1.867160</td>\n",
              "      <td>8.266781</td>\n",
              "      <td>GT8</td>\n",
              "    </tr>\n",
              "    <tr>\n",
              "      <th>10</th>\n",
              "      <td>1.753842</td>\n",
              "      <td>1.764100</td>\n",
              "      <td>1.351179</td>\n",
              "      <td>1.781943</td>\n",
              "      <td>1.676146</td>\n",
              "      <td>8.327209</td>\n",
              "      <td>GT8</td>\n",
              "    </tr>\n",
              "    <tr>\n",
              "      <th>12</th>\n",
              "      <td>1.829705</td>\n",
              "      <td>1.372065</td>\n",
              "      <td>1.770869</td>\n",
              "      <td>1.302508</td>\n",
              "      <td>1.785341</td>\n",
              "      <td>8.060488</td>\n",
              "      <td>GT8</td>\n",
              "    </tr>\n",
              "    <tr>\n",
              "      <th>15</th>\n",
              "      <td>1.492187</td>\n",
              "      <td>1.274457</td>\n",
              "      <td>1.796732</td>\n",
              "      <td>1.890352</td>\n",
              "      <td>1.800742</td>\n",
              "      <td>8.254470</td>\n",
              "      <td>GT8</td>\n",
              "    </tr>\n",
              "    <tr>\n",
              "      <th>16</th>\n",
              "      <td>1.332482</td>\n",
              "      <td>1.246039</td>\n",
              "      <td>1.622521</td>\n",
              "      <td>1.922552</td>\n",
              "      <td>1.959739</td>\n",
              "      <td>8.083333</td>\n",
              "      <td>GT8</td>\n",
              "    </tr>\n",
              "  </tbody>\n",
              "</table>\n",
              "</div>\n",
              "      <button class=\"colab-df-convert\" onclick=\"convertToInteractive('df-838c2349-3a3a-4d50-8ebe-0ac96d260d0c')\"\n",
              "              title=\"Convert this dataframe to an interactive table.\"\n",
              "              style=\"display:none;\">\n",
              "        \n",
              "  <svg xmlns=\"http://www.w3.org/2000/svg\" height=\"24px\"viewBox=\"0 0 24 24\"\n",
              "       width=\"24px\">\n",
              "    <path d=\"M0 0h24v24H0V0z\" fill=\"none\"/>\n",
              "    <path d=\"M18.56 5.44l.94 2.06.94-2.06 2.06-.94-2.06-.94-.94-2.06-.94 2.06-2.06.94zm-11 1L8.5 8.5l.94-2.06 2.06-.94-2.06-.94L8.5 2.5l-.94 2.06-2.06.94zm10 10l.94 2.06.94-2.06 2.06-.94-2.06-.94-.94-2.06-.94 2.06-2.06.94z\"/><path d=\"M17.41 7.96l-1.37-1.37c-.4-.4-.92-.59-1.43-.59-.52 0-1.04.2-1.43.59L10.3 9.45l-7.72 7.72c-.78.78-.78 2.05 0 2.83L4 21.41c.39.39.9.59 1.41.59.51 0 1.02-.2 1.41-.59l7.78-7.78 2.81-2.81c.8-.78.8-2.07 0-2.86zM5.41 20L4 18.59l7.72-7.72 1.47 1.35L5.41 20z\"/>\n",
              "  </svg>\n",
              "      </button>\n",
              "      \n",
              "  <style>\n",
              "    .colab-df-container {\n",
              "      display:flex;\n",
              "      flex-wrap:wrap;\n",
              "      gap: 12px;\n",
              "    }\n",
              "\n",
              "    .colab-df-convert {\n",
              "      background-color: #E8F0FE;\n",
              "      border: none;\n",
              "      border-radius: 50%;\n",
              "      cursor: pointer;\n",
              "      display: none;\n",
              "      fill: #1967D2;\n",
              "      height: 32px;\n",
              "      padding: 0 0 0 0;\n",
              "      width: 32px;\n",
              "    }\n",
              "\n",
              "    .colab-df-convert:hover {\n",
              "      background-color: #E2EBFA;\n",
              "      box-shadow: 0px 1px 2px rgba(60, 64, 67, 0.3), 0px 1px 3px 1px rgba(60, 64, 67, 0.15);\n",
              "      fill: #174EA6;\n",
              "    }\n",
              "\n",
              "    [theme=dark] .colab-df-convert {\n",
              "      background-color: #3B4455;\n",
              "      fill: #D2E3FC;\n",
              "    }\n",
              "\n",
              "    [theme=dark] .colab-df-convert:hover {\n",
              "      background-color: #434B5C;\n",
              "      box-shadow: 0px 1px 3px 1px rgba(0, 0, 0, 0.15);\n",
              "      filter: drop-shadow(0px 1px 2px rgba(0, 0, 0, 0.3));\n",
              "      fill: #FFFFFF;\n",
              "    }\n",
              "  </style>\n",
              "\n",
              "      <script>\n",
              "        const buttonEl =\n",
              "          document.querySelector('#df-838c2349-3a3a-4d50-8ebe-0ac96d260d0c button.colab-df-convert');\n",
              "        buttonEl.style.display =\n",
              "          google.colab.kernel.accessAllowed ? 'block' : 'none';\n",
              "\n",
              "        async function convertToInteractive(key) {\n",
              "          const element = document.querySelector('#df-838c2349-3a3a-4d50-8ebe-0ac96d260d0c');\n",
              "          const dataTable =\n",
              "            await google.colab.kernel.invokeFunction('convertToInteractive',\n",
              "                                                     [key], {});\n",
              "          if (!dataTable) return;\n",
              "\n",
              "          const docLinkHtml = 'Like what you see? Visit the ' +\n",
              "            '<a target=\"_blank\" href=https://colab.research.google.com/notebooks/data_table.ipynb>data table notebook</a>'\n",
              "            + ' to learn more about interactive tables.';\n",
              "          element.innerHTML = '';\n",
              "          dataTable['output_type'] = 'display_data';\n",
              "          await google.colab.output.renderOutput(dataTable, element);\n",
              "          const docLink = document.createElement('div');\n",
              "          docLink.innerHTML = docLinkHtml;\n",
              "          element.appendChild(docLink);\n",
              "        }\n",
              "      </script>\n",
              "    </div>\n",
              "  </div>\n",
              "  "
            ]
          },
          "metadata": {},
          "execution_count": 151
        }
      ],
      "source": [
        "isGT8=df2.g==\"GT8\"\n",
        "df2[isGT8]"
      ]
    },
    {
      "cell_type": "code",
      "execution_count": 152,
      "id": "40d3fd71",
      "metadata": {
        "colab": {
          "base_uri": "https://localhost:8080/"
        },
        "id": "40d3fd71",
        "outputId": "9583935f-4f55-4e8c-fe88-4b71ff12da99"
      },
      "outputs": [
        {
          "output_type": "stream",
          "name": "stdout",
          "text": [
            "The standard deviation of the column “f” for the rows where the value in the column “g” is “GT8”:  0.16186499640012605\n"
          ]
        }
      ],
      "source": [
        "print(\"The standard deviation of the column “f” for the rows where the value in the column “g” is “GT8”: \", df2[isGT8][\"f\"].std())"
      ]
    },
    {
      "cell_type": "markdown",
      "id": "375ed2ab",
      "metadata": {
        "id": "375ed2ab"
      },
      "source": [
        "# Q12"
      ]
    },
    {
      "cell_type": "code",
      "execution_count": 153,
      "id": "68314130",
      "metadata": {
        "colab": {
          "base_uri": "https://localhost:8080/"
        },
        "id": "68314130",
        "outputId": "dfc8c695-fc90-4a0d-ea84-540a3010775c"
      },
      "outputs": [
        {
          "output_type": "stream",
          "name": "stdout",
          "text": [
            "How numpy works:\n",
            " [[ 62 106]\n",
            " [ 73  50]\n",
            " [149 103]]\n",
            "Numpy addition:\n",
            " [[ 62 106]\n",
            " [ 73  50]\n",
            " [149 103]]\n"
          ]
        }
      ],
      "source": [
        "a=np.random.randint(1,100,size=(3,2))\n",
        "b=np.random.randint(1,100,size=(1,2))\n",
        "d,e=a.shape\n",
        "f,g=b.shape\n",
        "c=np.zeros((d,g), dtype=int)\n",
        "for i in range(d):\n",
        "    for j in range(g):\n",
        "        c[i][j]=a[i][j]+b[0][j]\n",
        "print(\"How numpy works:\\n\",c)\n",
        "print(\"Numpy addition:\\n\",a+b)"
      ]
    },
    {
      "cell_type": "markdown",
      "id": "b2a122c0",
      "metadata": {
        "id": "b2a122c0"
      },
      "source": [
        "Here we are adding two arrays of dimensions (3,2) and (1,2) by seeing the dimensions of the arrays we think that they ae incompatible for addition. But, here comes numpy broadcasting, the second array is viewed as (3,2) dimension with the first row duplicating into the remaining 2 rows. That is, if:\n",
        "$ a=[[1,2],[3,4],[5,6]] \\; and \\; b=[1,1] $ then, b can be viewed as $ b=[[1,1],[1,1],[1,1]] $ and thus we can add then resulting in the final array $ c=[[2,3],[4,5],[6,7]] $"
      ]
    },
    {
      "cell_type": "markdown",
      "id": "58fabe9e",
      "metadata": {
        "id": "58fabe9e"
      },
      "source": [
        "# Q13"
      ]
    },
    {
      "cell_type": "code",
      "execution_count": 154,
      "id": "65917233",
      "metadata": {
        "colab": {
          "base_uri": "https://localhost:8080/"
        },
        "id": "65917233",
        "outputId": "e2c1d679-2b8e-4244-856e-c6a32826c899"
      },
      "outputs": [
        {
          "output_type": "stream",
          "name": "stdout",
          "text": [
            "[[[16 71 73]\n",
            "  [66  7 55]\n",
            "  [ 7 35 32]]\n",
            "\n",
            " [[51 67 83]\n",
            "  [91 57 64]\n",
            "  [38 71 67]]\n",
            "\n",
            " [[ 8 97  1]\n",
            "  [12 90  8]\n",
            "  [ 2  9 37]]]\n"
          ]
        }
      ],
      "source": [
        "arr=np.random.randint(1,100,size=(3,3,3))\n",
        "print(arr)"
      ]
    },
    {
      "cell_type": "code",
      "execution_count": 155,
      "id": "ff0456a9",
      "metadata": {
        "id": "ff0456a9"
      },
      "outputs": [],
      "source": [
        "def f(arr):\n",
        "    arr=arr.flatten()\n",
        "    mini=0\n",
        "    for i in range(len(arr)):\n",
        "        if(arr[i]<arr[mini]):\n",
        "            mini=i\n",
        "    return mini"
      ]
    },
    {
      "cell_type": "code",
      "execution_count": 156,
      "id": "6a7fae69",
      "metadata": {
        "colab": {
          "base_uri": "https://localhost:8080/"
        },
        "id": "6a7fae69",
        "outputId": "ece6e7a0-c903-4a57-9cb7-37cc666184a6"
      },
      "outputs": [
        {
          "output_type": "stream",
          "name": "stdout",
          "text": [
            "my function:  20\n",
            "numpy function:  20\n"
          ]
        }
      ],
      "source": [
        "print(\"my function: \", f(arr))\n",
        "print(\"numpy function: \", np.argmin(arr))"
      ]
    },
    {
      "cell_type": "code",
      "execution_count": 103,
      "id": "3f80f639",
      "metadata": {
        "id": "3f80f639"
      },
      "outputs": [],
      "source": []
    }
  ],
  "metadata": {
    "kernelspec": {
      "display_name": "Python 3",
      "language": "python",
      "name": "python3"
    },
    "language_info": {
      "codemirror_mode": {
        "name": "ipython",
        "version": 3
      },
      "file_extension": ".py",
      "mimetype": "text/x-python",
      "name": "python",
      "nbconvert_exporter": "python",
      "pygments_lexer": "ipython3",
      "version": "3.8.8"
    },
    "colab": {
      "provenance": []
    }
  },
  "nbformat": 4,
  "nbformat_minor": 5
}